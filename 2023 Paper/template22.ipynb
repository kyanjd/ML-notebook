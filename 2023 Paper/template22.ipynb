{
 "cells": [
  {
   "cell_type": "code",
   "execution_count": 2,
   "metadata": {
    "id": "DkZCDRT9kcVn"
   },
   "outputs": [],
   "source": [
    "import pandas as pd\n",
    "import numpy as np\n",
    "import matplotlib.pyplot as plt\n",
    "\n",
    "def gen_sample_grid(npx=200, npy=200, limit=1):\n",
    "  x1line = np.linspace(-limit, limit, npx)\n",
    "  x2line = np.linspace(-limit, limit, npy)\n",
    "  x1grid, x2grid = np.meshgrid(x1line, x2line)\n",
    "  Xgrid = np.array([x1grid, x2grid]).reshape([2,npx*npy]).T\n",
    "  return Xgrid,x1line,x2line\n",
    "\n"
   ]
  },
  {
   "cell_type": "code",
   "execution_count": 3,
   "metadata": {
    "id": "7l0OhKsmVBXV"
   },
   "outputs": [],
   "source": [
    "#You may find lines or sections of the following code useful:\n",
    "def useful_code():\n",
    "  x_low = 0\n",
    "  x_high = 2*np.pi\n",
    "  n_x_values = 30\n",
    "  #define a set of n_x_values points between x_low and x_high (0 to\n",
    "  #2 pi in this case):\n",
    "  x = np.linspace(x_low,x_high,n_x_values)\n",
    "\n",
    "  #Normalise a vector (i.e. turn it into a unit vector):\n",
    "  v = np.array([4, 8, 1])\n",
    "  v_hat = v/np.linalg.norm(v)\n",
    "  print(\"Normalised vector: \", v_hat)\n",
    "\n",
    "  #find the minimum value within vector v:\n",
    "  print(\"Minimum of v (should be 1): \", np.min(v))\n",
    "  #find where the minimum occured - NB zero indexed\n",
    "  #(NB can also do argmax() for maximum point)\n",
    "  print(\"Minimum occurs at element: \", np.argmin(v,axis=0))\n",
    "\n",
    "  #calculate y values for the given x values, using y = cos(x)\n",
    "  y = np.cos(x)\n",
    "  integral = np.trapz(y, x=x) #integrate y using the trapezium rule\n",
    "  print(\"Integral (should be approx 0):\",integral)\n",
    "\n",
    "  loc = np.pi #set location to be pi (3.14...)\n",
    "  #interpolate function y(x) to find value at loc - i.e. y(loc):\n",
    "  val = np.interp(loc, x, y)\n",
    "  print(\"Value at pi (should be approx -1):\",val)\n",
    "\n",
    "  #summing and squaring:\n",
    "  print(\"Sum of y squared: \", np.sum(y**2))\n",
    "\n",
    "  #do a for loop\n",
    "  for cnt in range(4):\n",
    "    print(\"Iteration: \", cnt)\n",
    "\n",
    "  #Reshape matrix A such that it has the same shape as B:\n",
    "  A = np.array([[1,2],[3,4]])\n",
    "  print(\"A before reshaping:\\n\",A)\n",
    "  B = np.array([6,7,8,9])\n",
    "  print(\"B:\\n\",B)\n",
    "  A = np.reshape(A,B.shape)\n",
    "  print(\"A after reshaping to match B:\\n\",A)\n",
    "\n",
    "  #Multiply two matrices together:\n",
    "  A = np.array([[1,2],[3,4]])\n",
    "  B = np.array([[5,6],[7,8]])\n",
    "  C = np.matmul(A, B)\n",
    "  print(\"Multiplication of \\n\", A, \"\\nand\\n\", B, \"\\ngives:\\n\", C)\n",
    "\n",
    "  #Plotting functions/points:\n",
    "  fig, ax = plt.subplots()  #define a figure\n",
    "  #plot the points given by vectors x and y with a blue\n",
    "  #solid line ('b-'). k is black, r red and g green.\n",
    "  plt.plot(x, y, 'b-')\n",
    "  plt.plot(x, y, 'k.')      #as above, but plot as black dots\n",
    "\n",
    "\n",
    "  #2D plotting and routines:\n",
    "\n",
    "  #generate two random sets of values x1 and x2\n",
    "  n_points = 20\n",
    "  x1 = np.random.normal(loc=0,scale=1,size=n_points)\n",
    "  x2 = np.random.normal(loc=0,scale=1,size=n_points)\n",
    "  #Combine two vectors x1 and x2, of length n_points, into\n",
    "  # a matrix of size n_points x 2\n",
    "  X = np.concatenate((np.reshape(x1,[n_points,1]),\n",
    "                      np.reshape(x2,[n_points,1])),axis=1)\n",
    "\n",
    "  y = np.zeros([n_points]) #define y and set all values to zero\n",
    "  #now put all the class values to 1 where the x1 value is\n",
    "  # greater than 0.2\n",
    "  y[x1 > 0.2] = 1\n",
    "\n",
    "  #points in x and y:\n",
    "  npx = 200\n",
    "  npy = 200\n",
    "  #generate the grid to sample 2D space:\n",
    "  Xgrid,x1line,x2line = gen_sample_grid(npx,npy,3)\n",
    "  #generate an arbitrary 2D function - here do x1^2 + x2:\n",
    "  z = Xgrid[:,0]**2+Xgrid[:,1]\n",
    "  #and reshape it back to the grid\n",
    "  z = z.reshape([npx,npy])\n",
    "  fig, ax = plt.subplots()\n",
    "  #plot the values in z sampled at values given by the\n",
    "  #vectors x1line, x2line:\n",
    "  plt.contourf(x1line, x2line, z)\n",
    "  #plot scattered values in the n_points x 2 matrix X where\n",
    "  #corresponding values in the y vector equal 0:\n",
    "  ax.scatter(X[y == 0, 0], X[y == 0, 1])\n",
    "  #then plot where y == 1:\n",
    "  ax.scatter(X[y == 1, 0], X[y == 1, 1])\n",
    "\n",
    "#uncomment to run the code if you wish:\n",
    "#useful_code()"
   ]
  },
  {
   "cell_type": "markdown",
   "metadata": {
    "id": "t_GJCwK2N1RR"
   },
   "source": [
    "#Q1"
   ]
  },
  {
   "cell_type": "code",
   "execution_count": 5,
   "metadata": {
    "id": "RDqa_DjBWI4e"
   },
   "outputs": [
    {
     "data": {
      "text/html": [
       "<div>\n",
       "<style scoped>\n",
       "    .dataframe tbody tr th:only-of-type {\n",
       "        vertical-align: middle;\n",
       "    }\n",
       "\n",
       "    .dataframe tbody tr th {\n",
       "        vertical-align: top;\n",
       "    }\n",
       "\n",
       "    .dataframe thead th {\n",
       "        text-align: right;\n",
       "    }\n",
       "</style>\n",
       "<table border=\"1\" class=\"dataframe\">\n",
       "  <thead>\n",
       "    <tr style=\"text-align: right;\">\n",
       "      <th></th>\n",
       "      <th>a</th>\n",
       "      <th>b</th>\n",
       "      <th>c</th>\n",
       "    </tr>\n",
       "  </thead>\n",
       "  <tbody>\n",
       "    <tr>\n",
       "      <th>0</th>\n",
       "      <td>14248.690727</td>\n",
       "      <td>11256.278447</td>\n",
       "      <td>19872.989197</td>\n",
       "    </tr>\n",
       "    <tr>\n",
       "      <th>1</th>\n",
       "      <td>9776.487173</td>\n",
       "      <td>14160.399008</td>\n",
       "      <td>19795.080838</td>\n",
       "    </tr>\n",
       "    <tr>\n",
       "      <th>2</th>\n",
       "      <td>9943.656495</td>\n",
       "      <td>14771.186809</td>\n",
       "      <td>14632.676781</td>\n",
       "    </tr>\n",
       "    <tr>\n",
       "      <th>3</th>\n",
       "      <td>8854.062756</td>\n",
       "      <td>16589.088304</td>\n",
       "      <td>17644.670254</td>\n",
       "    </tr>\n",
       "    <tr>\n",
       "      <th>4</th>\n",
       "      <td>12730.815259</td>\n",
       "      <td>13112.000381</td>\n",
       "      <td>17787.405667</td>\n",
       "    </tr>\n",
       "    <tr>\n",
       "      <th>...</th>\n",
       "      <td>...</td>\n",
       "      <td>...</td>\n",
       "      <td>...</td>\n",
       "    </tr>\n",
       "    <tr>\n",
       "      <th>395</th>\n",
       "      <td>12589.056479</td>\n",
       "      <td>11417.894068</td>\n",
       "      <td>17639.261996</td>\n",
       "    </tr>\n",
       "    <tr>\n",
       "      <th>396</th>\n",
       "      <td>7253.678045</td>\n",
       "      <td>16328.095192</td>\n",
       "      <td>16513.070638</td>\n",
       "    </tr>\n",
       "    <tr>\n",
       "      <th>397</th>\n",
       "      <td>12841.230236</td>\n",
       "      <td>12523.867154</td>\n",
       "      <td>14667.319438</td>\n",
       "    </tr>\n",
       "    <tr>\n",
       "      <th>398</th>\n",
       "      <td>10929.264150</td>\n",
       "      <td>15523.656088</td>\n",
       "      <td>19792.831292</td>\n",
       "    </tr>\n",
       "    <tr>\n",
       "      <th>399</th>\n",
       "      <td>15221.210107</td>\n",
       "      <td>13319.171139</td>\n",
       "      <td>15501.507913</td>\n",
       "    </tr>\n",
       "  </tbody>\n",
       "</table>\n",
       "<p>400 rows × 3 columns</p>\n",
       "</div>"
      ],
      "text/plain": [
       "                a             b             c\n",
       "0    14248.690727  11256.278447  19872.989197\n",
       "1     9776.487173  14160.399008  19795.080838\n",
       "2     9943.656495  14771.186809  14632.676781\n",
       "3     8854.062756  16589.088304  17644.670254\n",
       "4    12730.815259  13112.000381  17787.405667\n",
       "..            ...           ...           ...\n",
       "395  12589.056479  11417.894068  17639.261996\n",
       "396   7253.678045  16328.095192  16513.070638\n",
       "397  12841.230236  12523.867154  14667.319438\n",
       "398  10929.264150  15523.656088  19792.831292\n",
       "399  15221.210107  13319.171139  15501.507913\n",
       "\n",
       "[400 rows x 3 columns]"
      ]
     },
     "metadata": {},
     "output_type": "display_data"
    }
   ],
   "source": [
    "#Q1:\n",
    "\n",
    "#load in the data\n",
    "df = pd.read_csv(\"http://pogo.software/me4ml/ecqtu/d1.csv\")\n",
    "a = np.array(df['a'])\n",
    "b = np.array(df['b'])\n",
    "c = np.array(df['c'])\n",
    "\n",
    "n_points = a.size\n",
    "\n",
    "## Your code here:\n",
    "#(a)\n",
    "display(df)\n",
    "xlim = 20000\n",
    "\n",
    "#(b)\n"
   ]
  },
  {
   "cell_type": "markdown",
   "metadata": {
    "id": "Fo_cm_m3N3gh"
   },
   "source": [
    "#Q2\n",
    "(a)\n",
    "\n",
    "(b)"
   ]
  },
  {
   "cell_type": "markdown",
   "metadata": {
    "id": "pC679FhMN417"
   },
   "source": [
    "#Q3"
   ]
  },
  {
   "cell_type": "code",
   "execution_count": null,
   "metadata": {
    "id": "9Det-4sLpmyi"
   },
   "outputs": [],
   "source": [
    "#Q3:\n",
    "\n",
    "w = np.array([0.8, -0.6])\n",
    "w0 = 5\n",
    "\n",
    "df = pd.read_csv(\"http://pogo.software/me4ml/ecqtu/d3.csv\")\n",
    "x1 = np.array(df['x1'])\n",
    "x2 = np.array(df['x2'])\n",
    "y = np.array(df['y'])\n",
    "\n",
    "n_points = x1.size\n",
    "\n",
    "#Your code here...\n",
    "\n",
    "\n"
   ]
  },
  {
   "cell_type": "markdown",
   "metadata": {
    "id": "J9Yl7MJ6N6pf"
   },
   "source": [
    "#Q4\n",
    "\n"
   ]
  },
  {
   "cell_type": "markdown",
   "metadata": {
    "id": "V_sulbwSN7zK"
   },
   "source": [
    "#Q5"
   ]
  },
  {
   "cell_type": "code",
   "execution_count": null,
   "metadata": {
    "id": "IbQrW8VmMwug"
   },
   "outputs": [],
   "source": [
    "#Q5\n",
    "\n",
    "df = pd.read_csv(\"http://pogo.software/me4ml/ecqtu/d5.csv\")\n",
    "x1 = np.array(df['x1'])\n",
    "x2 = np.array(df['x2'])\n",
    "y = np.array(df['y'])\n",
    "\n",
    "n_points = y.size\n",
    "\n",
    "#Your code here...\n",
    "\n"
   ]
  },
  {
   "cell_type": "markdown",
   "metadata": {
    "id": "_AdKlR4dN99Q"
   },
   "source": [
    "#Q6"
   ]
  },
  {
   "cell_type": "code",
   "execution_count": null,
   "metadata": {
    "id": "KCUnEC0-jbHY"
   },
   "outputs": [],
   "source": [
    "df = pd.read_csv(\"http://pogo.software/me4ml/ecqtu/d6.csv\")\n",
    "x = np.array(df['x'])\n",
    "y = np.array(df['y'])\n",
    "\n",
    "n_points = y.size\n",
    "\n",
    "#Your code here...\n"
   ]
  },
  {
   "cell_type": "markdown",
   "metadata": {
    "id": "mDo1Yc6AzqC7"
   },
   "source": [
    "#Q7"
   ]
  },
  {
   "cell_type": "code",
   "execution_count": null,
   "metadata": {
    "id": "kJmIvOs8zrno"
   },
   "outputs": [],
   "source": [
    "def sigmoid(x):\n",
    "  return 1/(1+np.exp(-x))\n",
    "\n",
    "\n",
    "#Your code here...\n"
   ]
  }
 ],
 "metadata": {
  "colab": {
   "provenance": [
    {
     "file_id": "1NdTlz3S7O7RKclve7XJRGrAp5HX0XYC_",
     "timestamp": 1668606197548
    }
   ]
  },
  "kernelspec": {
   "display_name": "fyp_env",
   "language": "python",
   "name": "python3"
  },
  "language_info": {
   "codemirror_mode": {
    "name": "ipython",
    "version": 3
   },
   "file_extension": ".py",
   "mimetype": "text/x-python",
   "name": "python",
   "nbconvert_exporter": "python",
   "pygments_lexer": "ipython3",
   "version": "3.11.10"
  }
 },
 "nbformat": 4,
 "nbformat_minor": 0
}
