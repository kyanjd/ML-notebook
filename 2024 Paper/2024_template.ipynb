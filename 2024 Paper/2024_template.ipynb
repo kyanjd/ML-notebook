{
  "nbformat": 4,
  "nbformat_minor": 0,
  "metadata": {
    "colab": {
      "provenance": []
    },
    "kernelspec": {
      "name": "python3",
      "display_name": "Python 3"
    },
    "language_info": {
      "name": "python"
    }
  },
  "cells": [
    {
      "cell_type": "code",
      "source": [
        "import numpy as np\n",
        "import matplotlib.pyplot as plt\n",
        "import pandas as pd\n",
        "\n",
        "def useful_code():\n",
        "\n",
        "  #Multiply two matrices together:\n",
        "  A = np.array([[1,2],[3,4]])\n",
        "  B = np.array([[5,6],[7,8]])\n",
        "  C = np.matmul(A, B)\n",
        "  print(\"Multiplication of \\n\", A, \"\\nand\\n\", B, \"\\ngives:\\n\", C)\n",
        "\n",
        "  d = np.array([[3], [-2],])\n",
        "\n",
        "  #matrix solving for Ax = d:\n",
        "  x = np.linalg.solve(A, d)\n",
        "\n",
        "  d_check = np.matmul(A, x)\n",
        "  print(d_check, \"should match\", d)\n",
        "\n",
        "  #logarithms:\n",
        "  b = 0.145\n",
        "  a = np.log(b)\n",
        "  print(\"log of \"+str(b)+\" is \"+str(a)+\". exp of \"+str(a)+\" is \"+str(np.exp(a))+\".\")\n",
        "\n",
        "  x_low = 0\n",
        "  x_high = 2*np.pi\n",
        "  n_x_values = 20\n",
        "  #define a set of n_x_values points between x_low and x_high (0 to\n",
        "  #2 pi in this case):\n",
        "  x = np.linspace(x_low,x_high,n_x_values)\n",
        "  y = np.cos(x)\n",
        "\n",
        "  #summing and squaring:\n",
        "  print(\"Sum of y squared: \", np.sum(y**2))\n",
        "\n",
        "  #demonstrate a for loop\n",
        "  y2_total = 0\n",
        "  for cnt in range(n_x_values):\n",
        "    y2_total = y2_total + y[cnt]*y[cnt]\n",
        "  print(y2_total)\n",
        "\n",
        "\n",
        "  #Plotting functions/points:\n",
        "  fig, ax = plt.subplots()  #define a figure\n",
        "  #plot the points given by vectors x and y with a red\n",
        "  #solid line ('r-'), and blue dots 'b.'. k is black, r red and g green.\n",
        "  plt.plot(x, y, 'b.')\n",
        "  plt.plot(x, y, 'r-')\n",
        "\n",
        "  #count how many values of y are less than zero:\n",
        "  num_y_less_than_zero = np.count_nonzero(y < 0)\n",
        "\n",
        "  #find the 4 smallest values of y\n",
        "  n_smallest = 4\n",
        "  indices_of_smallest = np.argpartition(y, n_smallest)[:n_smallest]\n",
        "  print(\"Smallest values of y:\", y[indices_of_smallest])\n",
        "\n",
        "  #get the absolute of y\n",
        "  y_abs = np.abs(y)\n",
        "\n",
        "  #generate two random sets of values x1 and x2\n",
        "  n_points = 20\n",
        "  x1 = np.random.normal(loc=0,scale=1,size=n_points)\n",
        "  x2 = np.random.normal(loc=0,scale=1,size=n_points)\n",
        "  #Combine two vectors x1 and x2, of length n_points, into\n",
        "  # a matrix of size n_points x 2\n",
        "  X = np.column_stack([x1, x2])\n",
        "\n",
        "  print(X.shape)\n",
        "  #add an extra empty dimension to X\n",
        "  X = X.reshape([n_points,2,1])\n",
        "  print(X.shape)\n",
        "  #now remove the redundant dimension:\n",
        "  X = X.squeeze()\n",
        "  print(X.shape)\n",
        "\n",
        "  y = np.zeros([n_points,1]) #define y and set all values to zero\n",
        "  #now put all the class values to 1 where the x1 value is\n",
        "  # greater than 0.2\n",
        "  y[x1 > 0.2] = 1\n",
        "\n",
        "#useful_code()\n"
      ],
      "metadata": {
        "id": "FJNY_5bt7ppD"
      },
      "execution_count": null,
      "outputs": []
    },
    {
      "cell_type": "code",
      "source": [
        "# --- ANSWER FOR Q1 HERE: ---"
      ],
      "metadata": {
        "id": "8i3c49P-ANTo"
      },
      "execution_count": null,
      "outputs": []
    },
    {
      "cell_type": "markdown",
      "source": [],
      "metadata": {
        "id": "j6JM_YXvDHgq"
      }
    },
    {
      "cell_type": "code",
      "source": [
        "# --- END ANSWER FOR Q1 ---"
      ],
      "metadata": {
        "id": "0r1HNA0lASPi"
      },
      "execution_count": null,
      "outputs": []
    },
    {
      "cell_type": "code",
      "source": [
        "# --- ANSWER FOR Q2(a) HERE: ---\n",
        "\n",
        "#You may put your answer as commented code or in a text cell\n"
      ],
      "metadata": {
        "id": "kZtoqViGLqyd"
      },
      "execution_count": null,
      "outputs": []
    },
    {
      "cell_type": "code",
      "source": [
        "# --- END ANSWER FOR Q2(a) ---"
      ],
      "metadata": {
        "id": "Z07DZ0S4Ltkj"
      },
      "execution_count": null,
      "outputs": []
    },
    {
      "cell_type": "code",
      "source": [
        "# --- ANSWER FOR Q2(b) HERE: ---\n",
        "#load the data\n",
        "df = pd.read_csv(\"http://pogo.software/me4ml/quehi/d2b.csv\")\n",
        "x = np.array(df['x'])\n",
        "y = np.array(df['y'])\n",
        "n_points = x.size\n",
        "\n"
      ],
      "metadata": {
        "id": "h6vIMzKgzAAP"
      },
      "execution_count": null,
      "outputs": []
    },
    {
      "cell_type": "code",
      "source": [
        "# --- END ANSWER FOR Q2(b) ---"
      ],
      "metadata": {
        "id": "2X5XEpGzIPMh"
      },
      "execution_count": null,
      "outputs": []
    },
    {
      "cell_type": "code",
      "source": [
        "# --- ANSWER FOR Q2(c) HERE: ---\n",
        "#load the data\n",
        "df = pd.read_csv(\"http://pogo.software/me4ml/quehi/d2c.csv\")\n",
        "x = np.array(df['x'])\n",
        "y = np.array(df['y'])\n",
        "n_points = x.size\n",
        "\n",
        "\n"
      ],
      "metadata": {
        "id": "0p6lKvAA14QW"
      },
      "execution_count": null,
      "outputs": []
    },
    {
      "cell_type": "code",
      "source": [
        "# --- END ANSWER FOR Q2(c) ---"
      ],
      "metadata": {
        "id": "p8lnQakSIReB"
      },
      "execution_count": null,
      "outputs": []
    },
    {
      "cell_type": "code",
      "source": [
        "# --- ANSWER FOR Q2(d) HERE: ---"
      ],
      "metadata": {
        "id": "gmwEqUKbIRWu"
      },
      "execution_count": null,
      "outputs": []
    },
    {
      "cell_type": "markdown",
      "source": [],
      "metadata": {
        "id": "WbELW46RXx6O"
      }
    },
    {
      "cell_type": "code",
      "source": [
        "# --- END ANSWER FOR Q2(d) ---"
      ],
      "metadata": {
        "id": "6uZwwA3yITIQ"
      },
      "execution_count": null,
      "outputs": []
    },
    {
      "cell_type": "code",
      "source": [
        "# --- ANSWER FOR Q3(a) HERE: ---"
      ],
      "metadata": {
        "id": "ye31DdwuIdt7"
      },
      "execution_count": null,
      "outputs": []
    },
    {
      "cell_type": "markdown",
      "source": [
        "\n"
      ],
      "metadata": {
        "id": "tBzrWsDdVdb3"
      }
    },
    {
      "cell_type": "code",
      "source": [
        "# --- END ANSWER FOR Q3(a) ---"
      ],
      "metadata": {
        "id": "r6G_0DjLIf_b"
      },
      "execution_count": null,
      "outputs": []
    },
    {
      "cell_type": "code",
      "source": [
        "# --- ANSWER FOR Q3(b) HERE: ---\n",
        "#load the data\n",
        "df = pd.read_csv(\"http://pogo.software/me4ml/quehi/d3.csv\")\n",
        "x1 = np.array(df['x1'])\n",
        "x2 = np.array(df['x2'])\n",
        "t = np.array(df['y'])\n",
        "n_points = x.size\n",
        "\n",
        "\n"
      ],
      "metadata": {
        "id": "lkX5xCPepdXn"
      },
      "execution_count": null,
      "outputs": []
    },
    {
      "cell_type": "code",
      "source": [
        "# --- END ANSWER FOR Q3(b) ---"
      ],
      "metadata": {
        "id": "gxaqpgtOIi7t"
      },
      "execution_count": null,
      "outputs": []
    },
    {
      "cell_type": "code",
      "source": [
        "# --- ANSWER FOR Q3(c) HERE: ---"
      ],
      "metadata": {
        "id": "ICgRPnwmJBAx"
      },
      "execution_count": null,
      "outputs": []
    },
    {
      "cell_type": "markdown",
      "source": [
        "3(c)"
      ],
      "metadata": {
        "id": "qmSglSoF1h6L"
      }
    },
    {
      "cell_type": "code",
      "source": [],
      "metadata": {
        "id": "yhaCooWM1jTc"
      },
      "execution_count": null,
      "outputs": []
    },
    {
      "cell_type": "code",
      "source": [
        "# --- END ANSWER FOR Q3(c) ---"
      ],
      "metadata": {
        "id": "9jdqCjI5Ik2n"
      },
      "execution_count": null,
      "outputs": []
    },
    {
      "cell_type": "code",
      "source": [
        "# --- ANSWER FOR Q4 HERE: ---"
      ],
      "metadata": {
        "id": "2egKYkEmBRfA"
      },
      "execution_count": null,
      "outputs": []
    },
    {
      "cell_type": "markdown",
      "source": [],
      "metadata": {
        "id": "jJdyAltvoWIu"
      }
    },
    {
      "cell_type": "code",
      "source": [
        "# --- END ANSWER FOR Q4 ---"
      ],
      "metadata": {
        "id": "q_atUf7uA5LJ"
      },
      "execution_count": null,
      "outputs": []
    },
    {
      "cell_type": "markdown",
      "source": [
        "5."
      ],
      "metadata": {
        "id": "uWjjDIKmJNE_"
      }
    },
    {
      "cell_type": "code",
      "source": [
        "# --- ANSWER FOR Q5 HERE: ---\n",
        "\n",
        "#load the data\n",
        "df = pd.read_csv(\"http://pogo.software/me4ml/quehi/d5.csv\")\n",
        "x1 = np.array(df['x1'])\n",
        "x2 = np.array(df['x2'])\n",
        "y = np.array(df['y'])\n",
        "n_points = x1.size\n"
      ],
      "metadata": {
        "id": "iH9sOHlmlT0c"
      },
      "execution_count": null,
      "outputs": []
    },
    {
      "cell_type": "code",
      "source": [
        "# --- END ANSWER FOR Q5 ---"
      ],
      "metadata": {
        "id": "hnyR4nHKA6pu"
      },
      "execution_count": null,
      "outputs": []
    },
    {
      "cell_type": "markdown",
      "source": [
        "6.\n"
      ],
      "metadata": {
        "id": "wswC2AcNTeRe"
      }
    },
    {
      "cell_type": "code",
      "source": [
        "# --- ANSWER FOR Q6 HERE: ---\n",
        "\n"
      ],
      "metadata": {
        "id": "JRB-AFAwT1mW"
      },
      "execution_count": null,
      "outputs": []
    },
    {
      "cell_type": "code",
      "source": [
        "# --- END ANSWER FOR Q6 ---"
      ],
      "metadata": {
        "id": "WB_7sg4OA8E7"
      },
      "execution_count": null,
      "outputs": []
    },
    {
      "cell_type": "markdown",
      "source": [
        "7."
      ],
      "metadata": {
        "id": "g1eenII_6ekJ"
      }
    },
    {
      "cell_type": "code",
      "source": [
        "# --- ANSWER FOR Q7 HERE: ---\n",
        "\n",
        "#load the data\n",
        "df = pd.read_csv(\"http://pogo.software/me4ml/quehi/d7.csv\")\n",
        "x1 = np.array(df['x1'])\n",
        "x2 = np.array(df['x2'])\n",
        "y = np.array(df['y'])\n",
        "n_points = x1.size\n",
        "\n"
      ],
      "metadata": {
        "id": "LWLdHExQc-UK"
      },
      "execution_count": null,
      "outputs": []
    },
    {
      "cell_type": "code",
      "source": [
        "# --- END ANSWER FOR Q7 ---"
      ],
      "metadata": {
        "id": "mNO26BikA-ZM"
      },
      "execution_count": null,
      "outputs": []
    },
    {
      "cell_type": "code",
      "execution_count": null,
      "metadata": {
        "id": "SF4GESum7KVh"
      },
      "outputs": [],
      "source": [
        "# --- ANSWER FOR Q8(a) HERE: ---\n",
        "\n",
        "#load in the data\n",
        "df = pd.read_csv(\"http://pogo.software/me4ml/quehi/d8.csv\")\n",
        "x1 = np.array(df['x1'])\n",
        "x2 = np.array(df['x2'])\n",
        "x3 = np.array(df['x3'])\n",
        "x4 = np.array(df['x4'])\n",
        "X = np.column_stack((x1, x2, x3, x4))\n",
        "y = np.array(df['y'])\n",
        "\n",
        "n_points = x1.size\n",
        "\n",
        "\n"
      ]
    },
    {
      "cell_type": "code",
      "source": [
        "# --- END ANSWER FOR Q8(a) ---"
      ],
      "metadata": {
        "id": "BKPQmOPIJfmO"
      },
      "execution_count": null,
      "outputs": []
    },
    {
      "cell_type": "code",
      "source": [
        "# --- ANSWER FOR Q8(b) HERE: ---\n",
        "\n"
      ],
      "metadata": {
        "id": "BByjik8-B0N7"
      },
      "execution_count": null,
      "outputs": []
    },
    {
      "cell_type": "code",
      "source": [
        "# --- END ANSWER FOR Q8(b) ---"
      ],
      "metadata": {
        "id": "SAjUOkLXJdmM"
      },
      "execution_count": null,
      "outputs": []
    },
    {
      "cell_type": "code",
      "source": [
        "# --- ANSWER FOR Q8(c) HERE: ---"
      ],
      "metadata": {
        "id": "Vmwg89XkqXQm"
      },
      "execution_count": null,
      "outputs": []
    },
    {
      "cell_type": "markdown",
      "source": [],
      "metadata": {
        "id": "OmXvH79Sqgwi"
      }
    },
    {
      "cell_type": "code",
      "source": [
        "# --- END ANSWER FOR Q8(c) ---"
      ],
      "metadata": {
        "id": "0VlEEPX3qZZS"
      },
      "execution_count": null,
      "outputs": []
    }
  ]
}