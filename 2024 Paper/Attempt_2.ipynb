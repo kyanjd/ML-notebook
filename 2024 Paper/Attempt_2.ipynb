{
 "cells": [
  {
   "cell_type": "code",
   "execution_count": 2,
   "metadata": {
    "id": "FJNY_5bt7ppD"
   },
   "outputs": [],
   "source": [
    "import numpy as np\n",
    "import matplotlib.pyplot as plt\n",
    "import pandas as pd\n",
    "\n",
    "def useful_code():\n",
    "\n",
    "  #Multiply two matrices together:\n",
    "  A = np.array([[1,2],[3,4]])\n",
    "  B = np.array([[5,6],[7,8]])\n",
    "  C = np.matmul(A, B)\n",
    "  print(\"Multiplication of \\n\", A, \"\\nand\\n\", B, \"\\ngives:\\n\", C)\n",
    "\n",
    "  d = np.array([[3], [-2],])\n",
    "\n",
    "  #matrix solving for Ax = d:\n",
    "  x = np.linalg.solve(A, d)\n",
    "\n",
    "  d_check = np.matmul(A, x)\n",
    "  print(d_check, \"should match\", d)\n",
    "\n",
    "  #logarithms:\n",
    "  b = 0.145\n",
    "  a = np.log(b)\n",
    "  print(\"log of \"+str(b)+\" is \"+str(a)+\". exp of \"+str(a)+\" is \"+str(np.exp(a))+\".\")\n",
    "\n",
    "  x_low = 0\n",
    "  x_high = 2*np.pi\n",
    "  n_x_values = 20\n",
    "  #define a set of n_x_values points between x_low and x_high (0 to\n",
    "  #2 pi in this case):\n",
    "  x = np.linspace(x_low,x_high,n_x_values)\n",
    "  y = np.cos(x)\n",
    "\n",
    "  #summing and squaring:\n",
    "  print(\"Sum of y squared: \", np.sum(y**2))\n",
    "\n",
    "  #demonstrate a for loop\n",
    "  y2_total = 0\n",
    "  for cnt in range(n_x_values):\n",
    "    y2_total = y2_total + y[cnt]*y[cnt]\n",
    "  print(y2_total)\n",
    "\n",
    "\n",
    "  #Plotting functions/points:\n",
    "  fig, ax = plt.subplots()  #define a figure\n",
    "  #plot the points given by vectors x and y with a red\n",
    "  #solid line ('r-'), and blue dots 'b.'. k is black, r red and g green.\n",
    "  plt.plot(x, y, 'b.')\n",
    "  plt.plot(x, y, 'r-')\n",
    "\n",
    "  #count how many values of y are less than zero:\n",
    "  num_y_less_than_zero = np.count_nonzero(y < 0)\n",
    "\n",
    "  #find the 4 smallest values of y\n",
    "  n_smallest = 4\n",
    "  indices_of_smallest = np.argpartition(y, n_smallest)[:n_smallest]\n",
    "  print(\"Smallest values of y:\", y[indices_of_smallest])\n",
    "\n",
    "  #get the absolute of y\n",
    "  y_abs = np.abs(y)\n",
    "\n",
    "  #generate two random sets of values x1 and x2\n",
    "  n_points = 20\n",
    "  x1 = np.random.normal(loc=0,scale=1,size=n_points)\n",
    "  x2 = np.random.normal(loc=0,scale=1,size=n_points)\n",
    "  #Combine two vectors x1 and x2, of length n_points, into\n",
    "  # a matrix of size n_points x 2\n",
    "  X = np.column_stack([x1, x2])\n",
    "\n",
    "  print(X.shape)\n",
    "  #add an extra empty dimension to X\n",
    "  X = X.reshape([n_points,2,1])\n",
    "  print(X.shape)\n",
    "  #now remove the redundant dimension:\n",
    "  X = X.squeeze()\n",
    "  print(X.shape)\n",
    "\n",
    "  y = np.zeros([n_points,1]) #define y and set all values to zero\n",
    "  #now put all the class values to 1 where the x1 value is\n",
    "  # greater than 0.2\n",
    "  y[x1 > 0.2] = 1\n",
    "\n",
    "#useful_code()\n"
   ]
  },
  {
   "cell_type": "code",
   "execution_count": 3,
   "metadata": {
    "id": "8i3c49P-ANTo"
   },
   "outputs": [],
   "source": [
    "# --- ANSWER FOR Q1 HERE: ---"
   ]
  },
  {
   "cell_type": "markdown",
   "metadata": {
    "id": "j6JM_YXvDHgq"
   },
   "source": [
    "PC . (0, 0, 1, 0) must equal 0, therefore all other PCs must have 0 in the 3rd entry to dot to 0 with the give PC (demonstrating their orthogonality)"
   ]
  },
  {
   "cell_type": "code",
   "execution_count": 4,
   "metadata": {
    "id": "0r1HNA0lASPi"
   },
   "outputs": [],
   "source": [
    "# --- END ANSWER FOR Q1 ---"
   ]
  },
  {
   "cell_type": "code",
   "execution_count": 5,
   "metadata": {
    "id": "kZtoqViGLqyd"
   },
   "outputs": [
    {
     "ename": "SyntaxError",
     "evalue": "incomplete input (1685922930.py, line 4)",
     "output_type": "error",
     "traceback": [
      "\u001b[1;36m  Cell \u001b[1;32mIn[5], line 4\u001b[1;36m\u001b[0m\n\u001b[1;33m    \"\"\"\u001b[0m\n\u001b[1;37m    ^\u001b[0m\n\u001b[1;31mSyntaxError\u001b[0m\u001b[1;31m:\u001b[0m incomplete input\n"
     ]
    }
   ],
   "source": [
    "# --- ANSWER FOR Q2(a) HERE: ---\n",
    "\n",
    "#You may put your answer as commented code or in a text cell\n",
    "\"\"\"\n",
    "f(x) = B0 + B1x1 + B2x2\n",
    "E2 = sum((f(x) - y) ** 2)\n",
    "dE2dB0 = sum(2 * f(x) - y) = 0\n",
    "B0m + B1Sx1 + B2Sx2 = Sy\n",
    "dE2dB1 = sum((2 * f(x) - y) * x1) = 0\n",
    "B0Sx1 + B1Sx1x1 + B2Sx1x2 = Syx1\n",
    "dE2dB2 = sum((2 * f(x) - y) * x2) = 0\n",
    "B0Sx2 + B1Sx1x2 + B2Sx2x2 = Syx2\n",
    "\n",
    "[m, Sx1, Sx2]\n",
    "[Sx1, Sx1x1, Sx1x2]\n",
    "[Sx2, Sx1x2, Sx2x2]\n",
    "\n",
    "[B0]\n",
    "[B1]\n",
    "[B2]\n",
    "\n",
    "=\n",
    "\n",
    "[Sy]\n",
    "[Syx1]\n",
    "[Syx2]\n",
    "\"\"\""
   ]
  },
  {
   "cell_type": "code",
   "execution_count": null,
   "metadata": {
    "id": "Z07DZ0S4Ltkj"
   },
   "outputs": [],
   "source": [
    "# --- END ANSWER FOR Q2(a) ---"
   ]
  },
  {
   "cell_type": "code",
   "execution_count": 14,
   "metadata": {
    "id": "h6vIMzKgzAAP"
   },
   "outputs": [
    {
     "data": {
      "text/plain": [
       "[<matplotlib.lines.Line2D at 0x16b90355d30>]"
      ]
     },
     "execution_count": 14,
     "metadata": {},
     "output_type": "execute_result"
    },
    {
     "data": {
      "image/png": "[encoded data removed]",
      "text/plain": [
       "<Figure size 640x480 with 1 Axes>"
      ]
     },
     "metadata": {},
     "output_type": "display_data"
    }
   ],
   "source": [
    "# --- ANSWER FOR Q2(b) HERE: ---\n",
    "#load the data\n",
    "df = pd.read_csv(\"http://pogo.software/me4ml/quehi/d2b.csv\")\n",
    "x = np.array(df['x'])\n",
    "y = np.array(df['y'])\n",
    "yp = np.log(y)\n",
    "m = x.size\n",
    "\n",
    "plt.scatter(x, y)\n",
    "\n",
    "\n",
    "#y = Ae^Bx\n",
    "#ln(y) = ln(A) + Bx\n",
    "#yp = Ap + Bx\n",
    "\n",
    "def f(x,Ap, B):\n",
    "    return Ap + B * x\n",
    "\n",
    "# E2 = sum((Ap + Bx - yp)**2)\n",
    "# dE2dAp = sum(2 * (Ap + Bx - yp)) = 0\n",
    "# Apm + BSx = Syp\n",
    "# dE2dB = sum(2 * (Ap + Bx - yp) * x) = 0\n",
    "# ApSx + BSxx = Sypx\n",
    "\n",
    "X = np.array([[m, np.sum(x)],\n",
    "              [np.sum(x), np.sum(x**2)]])\n",
    "\n",
    "Y = np.array([[np.sum(yp), np.sum(yp * x)]]).T\n",
    "\n",
    "B_mat = np.linalg.solve(X, Y)\n",
    "\n",
    "Ap = B_mat[0]\n",
    "B = B_mat[1]\n",
    "\n",
    "xrange = np.linspace(x.min(), x.max(), m)\n",
    "plt.plot(xrange, np.exp(Ap) * np.exp(B * xrange), c=\"red\")\n",
    "\n"
   ]
  },
  {
   "cell_type": "code",
   "execution_count": 15,
   "metadata": {
    "id": "2X5XEpGzIPMh"
   },
   "outputs": [],
   "source": [
    "# --- END ANSWER FOR Q2(b) ---"
   ]
  },
  {
   "cell_type": "code",
   "execution_count": 16,
   "metadata": {
    "id": "0p6lKvAA14QW"
   },
   "outputs": [],
   "source": [
    "# --- ANSWER FOR Q2(c) HERE: ---\n",
    "#load the data\n",
    "df = pd.read_csv(\"http://pogo.software/me4ml/quehi/d2c.csv\")\n",
    "x = np.array(df['x'])\n",
    "y = np.array(df['y'])\n",
    "n_points = x.size\n",
    "\n",
    "\n"
   ]
  },
  {
   "cell_type": "code",
   "execution_count": null,
   "metadata": {
    "id": "p8lnQakSIReB"
   },
   "outputs": [],
   "source": [
    "# --- END ANSWER FOR Q2(c) ---"
   ]
  },
  {
   "cell_type": "code",
   "execution_count": null,
   "metadata": {
    "id": "gmwEqUKbIRWu"
   },
   "outputs": [],
   "source": [
    "# --- ANSWER FOR Q2(d) HERE: ---"
   ]
  },
  {
   "cell_type": "markdown",
   "metadata": {
    "id": "WbELW46RXx6O"
   },
   "source": []
  },
  {
   "cell_type": "code",
   "execution_count": null,
   "metadata": {
    "id": "6uZwwA3yITIQ"
   },
   "outputs": [],
   "source": [
    "# --- END ANSWER FOR Q2(d) ---"
   ]
  },
  {
   "cell_type": "code",
   "execution_count": null,
   "metadata": {
    "id": "ye31DdwuIdt7"
   },
   "outputs": [],
   "source": [
    "# --- ANSWER FOR Q3(a) HERE: ---"
   ]
  },
  {
   "cell_type": "markdown",
   "metadata": {
    "id": "tBzrWsDdVdb3"
   },
   "source": [
    "3 3 2\n",
    "20 total\n"
   ]
  },
  {
   "cell_type": "code",
   "execution_count": null,
   "metadata": {
    "id": "r6G_0DjLIf_b"
   },
   "outputs": [],
   "source": [
    "# --- END ANSWER FOR Q3(a) ---"
   ]
  },
  {
   "cell_type": "code",
   "execution_count": 18,
   "metadata": {
    "id": "lkX5xCPepdXn"
   },
   "outputs": [
    {
     "name": "stdout",
     "output_type": "stream",
     "text": [
      "3.2057852243701115\n"
     ]
    }
   ],
   "source": [
    "# --- ANSWER FOR Q3(b) HERE: ---\n",
    "#load the data\n",
    "df = pd.read_csv(\"http://pogo.software/me4ml/quehi/d3.csv\")\n",
    "x1 = np.array(df['x1'])\n",
    "x2 = np.array(df['x2'])\n",
    "t = np.array(df['y'])\n",
    "n_points = x.size\n",
    "\n",
    "# J = np.sum(0.5(t-zm)**2)\n",
    "\n",
    "def sig(x):\n",
    "    return (1 + np.exp(-x)) ** -1\n",
    "\n",
    "net21 = -2 * x1 + 3 * x2 + 3\n",
    "y1 = sig(net21)\n",
    "\n",
    "net22 = -0.3 * x1 + -1 * x2 + 0.3\n",
    "y2 = sig(net22)\n",
    "\n",
    "net31 = 1.5 * y1 + 1 * y2 - 1.8\n",
    "z1 = sig(net31)\n",
    "\n",
    "J = np.sum(0.5 * (t - z1)**2)\n",
    "print(J)\n"
   ]
  },
  {
   "cell_type": "code",
   "execution_count": null,
   "metadata": {
    "id": "gxaqpgtOIi7t"
   },
   "outputs": [],
   "source": [
    "# --- END ANSWER FOR Q3(b) ---"
   ]
  },
  {
   "cell_type": "code",
   "execution_count": null,
   "metadata": {
    "id": "ICgRPnwmJBAx"
   },
   "outputs": [],
   "source": [
    "# --- ANSWER FOR Q3(c) HERE: ---"
   ]
  },
  {
   "cell_type": "markdown",
   "metadata": {
    "id": "qmSglSoF1h6L"
   },
   "source": [
    "3(c)"
   ]
  },
  {
   "cell_type": "code",
   "execution_count": 31,
   "metadata": {
    "id": "yhaCooWM1jTc"
   },
   "outputs": [
    {
     "name": "stdout",
     "output_type": "stream",
     "text": [
      "1.901486474776756\n"
     ]
    },
    {
     "data": {
      "image/png": "[encoded data removed]",
      "text/plain": [
       "<Figure size 640x480 with 1 Axes>"
      ]
     },
     "metadata": {},
     "output_type": "display_data"
    }
   ],
   "source": [
    "# dJdw = sum(-(t-zm)(dzdw))\n",
    "# dzdw = f'(net)(dnet/dw)\n",
    "# dnetnw = y1\n",
    "# dJdw = -(t - zm) * sigp(net) * y1\n",
    "def sigp(x):\n",
    "    return sig(x) * (1 - sig(x))\n",
    "w = 1\n",
    "step = 2e-1\n",
    "steps = 100\n",
    "\n",
    "loss = []\n",
    "w_vals = []\n",
    "for _ in range(steps):\n",
    "    net21 = -2 * x1 + 3 * x2 + 3\n",
    "    y1 = sig(net21)\n",
    "    \n",
    "    net22 = -0.3 * x1 + -1 * x2 + 0.3\n",
    "    y2 = sig(net22)\n",
    "    \n",
    "    net31 = 1.5 * y1 + w * y2 - 1.8\n",
    "    z1 = sig(net31)\n",
    "\n",
    "    dJdw = np.sum(-(t-z1) * sigp(net31) * y2)\n",
    "    w -= step * dJdw\n",
    "    w_vals.append(w)\n",
    "    loss.append(np.sum(0.5 * (t - z1)**2))\n",
    "\n",
    "plt.plot(range(steps), loss)\n",
    "plt.plot(range(steps), w_vals, c=\"red\")\n",
    "print(w)\n",
    "    "
   ]
  },
  {
   "cell_type": "code",
   "execution_count": null,
   "metadata": {
    "id": "9jdqCjI5Ik2n"
   },
   "outputs": [],
   "source": [
    "# --- END ANSWER FOR Q3(c) ---"
   ]
  },
  {
   "cell_type": "code",
   "execution_count": null,
   "metadata": {
    "id": "2egKYkEmBRfA"
   },
   "outputs": [],
   "source": [
    "# --- ANSWER FOR Q4 HERE: ---"
   ]
  },
  {
   "cell_type": "markdown",
   "metadata": {
    "id": "jJdyAltvoWIu"
   },
   "source": [
    "g = [1, x, x**2, cosx].[A, B, C, D]"
   ]
  },
  {
   "cell_type": "code",
   "execution_count": null,
   "metadata": {
    "id": "q_atUf7uA5LJ"
   },
   "outputs": [],
   "source": [
    "# --- END ANSWER FOR Q4 ---"
   ]
  },
  {
   "cell_type": "markdown",
   "metadata": {
    "id": "uWjjDIKmJNE_"
   },
   "source": [
    "5."
   ]
  },
  {
   "cell_type": "code",
   "execution_count": 36,
   "metadata": {
    "id": "iH9sOHlmlT0c"
   },
   "outputs": [
    {
     "name": "stdout",
     "output_type": "stream",
     "text": [
      "2.4975420365465295\n"
     ]
    }
   ],
   "source": [
    "# --- ANSWER FOR Q5 HERE: ---\n",
    "\n",
    "#load the data\n",
    "df = pd.read_csv(\"http://pogo.software/me4ml/quehi/d5.csv\")\n",
    "x1 = np.array(df['x1'])\n",
    "x2 = np.array(df['x2'])\n",
    "y = np.array(df['y'])\n",
    "n_points = x1.size\n",
    "\n",
    "\n",
    "w = np.array([-0.869, 0.494])\n",
    "w0 = 0.0982\n",
    "\n",
    "X = np.array([x1, x2])\n",
    "g = np.matmul(w.T, X) + w0\n",
    "y_g = y * g\n",
    "\n",
    "def eps(y_g, M):\n",
    "    eps = 1 - (y_g/M)\n",
    "    return np.where(eps>0, eps, 0)\n",
    "\n",
    "M = 0.23\n",
    "C =  np.sum(eps(y_g, M))\n",
    "print(C)\n",
    "                   "
   ]
  },
  {
   "cell_type": "code",
   "execution_count": null,
   "metadata": {
    "id": "hnyR4nHKA6pu"
   },
   "outputs": [],
   "source": [
    "# --- END ANSWER FOR Q5 ---"
   ]
  },
  {
   "cell_type": "markdown",
   "metadata": {
    "id": "wswC2AcNTeRe"
   },
   "source": [
    "6.\n"
   ]
  },
  {
   "cell_type": "code",
   "execution_count": 37,
   "metadata": {
    "id": "JRB-AFAwT1mW"
   },
   "outputs": [
    {
     "name": "stdout",
     "output_type": "stream",
     "text": [
      "-24.0 -17.4 -12.000000000000002\n"
     ]
    }
   ],
   "source": [
    "# --- ANSWER FOR Q6 HERE: ---\n",
    "#w0 = not lie, w1 = lie\n",
    "lA_w0 = 0\n",
    "lA_w1 = -30\n",
    "lB_w0 = -15\n",
    "lB_w1 = -18\n",
    "lC_w0 = -12\n",
    "lC_w1 = -12\n",
    "\n",
    "pw0 = 0.2\n",
    "pw1 = 0.8\n",
    "\n",
    "rA = pw0 * lA_w0 + pw1 * lA_w1\n",
    "rB = pw0 * lB_w0 + pw1 * lB_w1\n",
    "rC = pw0 * lC_w0 + pw1 * lC_w1\n",
    "print(rA, rB, rC)\n"
   ]
  },
  {
   "cell_type": "code",
   "execution_count": null,
   "metadata": {
    "id": "WB_7sg4OA8E7"
   },
   "outputs": [],
   "source": [
    "# --- END ANSWER FOR Q6 ---"
   ]
  },
  {
   "cell_type": "markdown",
   "metadata": {
    "id": "g1eenII_6ekJ"
   },
   "source": [
    "7."
   ]
  },
  {
   "cell_type": "code",
   "execution_count": 40,
   "metadata": {
    "id": "LWLdHExQc-UK"
   },
   "outputs": [
    {
     "data": {
      "image/png": "[encoded data removed]",
      "text/plain": [
       "<Figure size 640x480 with 1 Axes>"
      ]
     },
     "metadata": {},
     "output_type": "display_data"
    },
    {
     "data": {
      "image/png": "[encoded data removed]",
      "text/plain": [
       "<Figure size 640x480 with 1 Axes>"
      ]
     },
     "metadata": {},
     "output_type": "display_data"
    }
   ],
   "source": [
    "# --- ANSWER FOR Q7 HERE: ---\n",
    "\n",
    "#load the data\n",
    "df = pd.read_csv(\"http://pogo.software/me4ml/quehi/d7.csv\")\n",
    "x1 = np.array(df['x1'])\n",
    "x2 = np.array(df['x2'])\n",
    "y = np.array(df['y'])\n",
    "n_points = x1.size\n",
    "\n",
    "D_vals = np.linspace(0, 1, 21)\n",
    "#classes are 0 and 1\n",
    "x1_gini = []\n",
    "x2_gini = []\n",
    "for D in D_vals:\n",
    "    # x1\n",
    "    under_correct = len(x1[(x1<D) & (y==0)])\n",
    "    under_incorrect = len(x1[(x1<D) & (y==1)])\n",
    "    over_correct = len(x1[(x1>=D) & (y==1)])\n",
    "    over_incorrect = len(x1[(x1>=D) & (y==0)])\n",
    "\n",
    "    under_tot = under_correct + under_incorrect\n",
    "    over_tot = over_correct + over_incorrect\n",
    "\n",
    "    p_under = under_tot / n_points\n",
    "    p_over = over_tot / n_points\n",
    "\n",
    "    gini_under = 1 - (under_correct/under_tot)**2 - (under_incorrect/under_tot)**2\n",
    "    gini_over = 1 - (over_correct/over_tot)**2 - (over_incorrect/over_tot)**2\n",
    "\n",
    "    gini_weighted = gini_under * p_under + gini_over * p_over\n",
    "    x1_gini.append(gini_weighted)\n",
    "\n",
    "    # x2\n",
    "    under_correct = len(x2[(x2<D) & (y==0)])\n",
    "    under_incorrect = len(x2[(x2<D) & (y==1)])\n",
    "    over_correct = len(x2[(x2>=D) & (y==1)])\n",
    "    over_incorrect = len(x2[(x2>=D) & (y==0)])\n",
    "\n",
    "    under_tot = under_correct + under_incorrect\n",
    "    over_tot = over_correct + over_incorrect\n",
    "\n",
    "    p_under = under_tot / n_points\n",
    "    p_over = over_tot / n_points\n",
    "\n",
    "    gini_under = 1 - (under_correct/under_tot)**2 - (under_incorrect/under_tot)**2\n",
    "    gini_over = 1 - (over_correct/over_tot)**2 - (over_incorrect/over_tot)**2\n",
    "\n",
    "    gini_weighted = gini_under * p_under + gini_over * p_over\n",
    "    x2_gini.append(gini_weighted)\n",
    "\n",
    "plt.plot(D_vals, x1_gini)\n",
    "plt.show()\n",
    "plt.plot(D_vals, x2_gini)\n",
    "plt.show()\n",
    "\n",
    "    \n",
    "\n",
    "\n",
    "\n",
    "    \n",
    "    \n",
    "    \n"
   ]
  },
  {
   "cell_type": "code",
   "execution_count": null,
   "metadata": {
    "id": "mNO26BikA-ZM"
   },
   "outputs": [],
   "source": [
    "# --- END ANSWER FOR Q7 ---"
   ]
  },
  {
   "cell_type": "code",
   "execution_count": 51,
   "metadata": {
    "id": "SF4GESum7KVh"
   },
   "outputs": [
    {
     "data": {
      "text/plain": [
       "1.0"
      ]
     },
     "execution_count": 51,
     "metadata": {},
     "output_type": "execute_result"
    }
   ],
   "source": [
    "# --- ANSWER FOR Q8(a) HERE: ---\n",
    "\n",
    "#load in the data\n",
    "df = pd.read_csv(\"http://pogo.software/me4ml/quehi/d8.csv\")\n",
    "x1 = np.array(df['x1'])\n",
    "x2 = np.array(df['x2'])\n",
    "x3 = np.array(df['x3'])\n",
    "x4 = np.array(df['x4'])\n",
    "X = np.column_stack((x1, x2, x3, x4))\n",
    "y = np.array(df['y'])\n",
    "\n",
    "n_points = x1.size\n",
    "\n",
    "def L1(X, p):\n",
    "    return np.sum(np.abs(X - p), axis=1)\n",
    "\n",
    "p = np.array([0, -1, 2, 1])\n",
    "\n",
    "dist = L1(X, p)\n",
    "indexes = np.argsort(dist)[:3]\n",
    "classes = y[indexes]\n",
    "np.round(classes.mean(), 0)\n"
   ]
  },
  {
   "cell_type": "code",
   "execution_count": null,
   "metadata": {
    "id": "BKPQmOPIJfmO"
   },
   "outputs": [],
   "source": [
    "# --- END ANSWER FOR Q8(a) ---"
   ]
  },
  {
   "cell_type": "code",
   "execution_count": 53,
   "metadata": {
    "id": "BByjik8-B0N7"
   },
   "outputs": [
    {
     "name": "stdout",
     "output_type": "stream",
     "text": [
      "0.6834141603352772 0.3165858396647228\n"
     ]
    }
   ],
   "source": [
    "# --- ANSWER FOR Q8(b) HERE: ---\n",
    "\n",
    "def L2(X, p):\n",
    "    return np.sum((X-p)**2, axis=1)\n",
    "\n",
    "def phi(X, p, m):\n",
    "    r = L2(X, p)\n",
    "    return (1/2*np.pi*m) * np.exp(-0.5*r**2)\n",
    "\n",
    "p = np.array([0, -1, 2, 1])\n",
    "\n",
    "px_w0 = np.sum(phi(X[y==0], p, len(X[y==0])))\n",
    "px_w1 = np.sum(phi(X[y==1], p, len(X[y==1])))\n",
    "\n",
    "pw0 = len(X[y==0]) / len(X)\n",
    "pw1 = len(X[y==1]) / len(X)\n",
    "\n",
    "px = px_w0 * pw0 + px_w1 * pw1\n",
    "\n",
    "pw0_x = (px_w0 * pw0)/ px\n",
    "pw1_x = (px_w1 * pw1)/ px\n",
    "\n",
    "print(pw0_x, pw1_x)\n",
    "\n"
   ]
  },
  {
   "cell_type": "code",
   "execution_count": null,
   "metadata": {
    "id": "SAjUOkLXJdmM"
   },
   "outputs": [],
   "source": [
    "# --- END ANSWER FOR Q8(b) ---"
   ]
  },
  {
   "cell_type": "code",
   "execution_count": null,
   "metadata": {
    "id": "Vmwg89XkqXQm"
   },
   "outputs": [],
   "source": [
    "# --- ANSWER FOR Q8(c) HERE: ---"
   ]
  },
  {
   "cell_type": "markdown",
   "metadata": {
    "id": "OmXvH79Sqgwi"
   },
   "source": []
  },
  {
   "cell_type": "code",
   "execution_count": null,
   "metadata": {
    "id": "0VlEEPX3qZZS"
   },
   "outputs": [],
   "source": [
    "# --- END ANSWER FOR Q8(c) ---"
   ]
  }
 ],
 "metadata": {
  "colab": {
   "provenance": []
  },
  "kernelspec": {
   "display_name": "Python 3 (ipykernel)",
   "language": "python",
   "name": "python3"
  },
  "language_info": {
   "codemirror_mode": {
    "name": "ipython",
    "version": 3
   },
   "file_extension": ".py",
   "mimetype": "text/x-python",
   "name": "python",
   "nbconvert_exporter": "python",
   "pygments_lexer": "ipython3",
   "version": "3.12.3"
  }
 },
 "nbformat": 4,
 "nbformat_minor": 4
}
