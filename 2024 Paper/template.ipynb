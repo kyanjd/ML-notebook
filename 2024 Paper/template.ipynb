{
  "cells": [
    {
      "cell_type": "code",
      "execution_count": 2,
      "metadata": {
        "id": "FJNY_5bt7ppD"
      },
      "outputs": [],
      "source": [
        "import numpy as np\n",
        "import matplotlib.pyplot as plt\n",
        "import pandas as pd\n",
        "\n",
        "def useful_code():\n",
        "\n",
        "  #Multiply two matrices together:\n",
        "  A = np.array([[1,2],[3,4]])\n",
        "  B = np.array([[5,6],[7,8]])\n",
        "  C = np.matmul(A, B)\n",
        "  print(\"Multiplication of \\n\", A, \"\\nand\\n\", B, \"\\ngives:\\n\", C)\n",
        "\n",
        "  d = np.array([[3], [-2],])\n",
        "\n",
        "  #matrix solving for Ax = d:\n",
        "  x = np.linalg.solve(A, d)\n",
        "\n",
        "  d_check = np.matmul(A, x)\n",
        "  print(d_check, \"should match\", d)\n",
        "\n",
        "  #logarithms:\n",
        "  b = 0.145\n",
        "  a = np.log(b)\n",
        "  print(\"log of \"+str(b)+\" is \"+str(a)+\". exp of \"+str(a)+\" is \"+str(np.exp(a))+\".\")\n",
        "\n",
        "  x_low = 0\n",
        "  x_high = 2*np.pi\n",
        "  n_x_values = 20\n",
        "  #define a set of n_x_values points between x_low and x_high (0 to\n",
        "  #2 pi in this case):\n",
        "  x = np.linspace(x_low,x_high,n_x_values)\n",
        "  y = np.cos(x)\n",
        "\n",
        "  #summing and squaring:\n",
        "  print(\"Sum of y squared: \", np.sum(y**2))\n",
        "\n",
        "  #demonstrate a for loop\n",
        "  y2_total = 0\n",
        "  for cnt in range(n_x_values):\n",
        "    y2_total = y2_total + y[cnt]*y[cnt]\n",
        "  print(y2_total)\n",
        "\n",
        "\n",
        "  #Plotting functions/points:\n",
        "  fig, ax = plt.subplots()  #define a figure\n",
        "  #plot the points given by vectors x and y with a red\n",
        "  #solid line ('r-'), and blue dots 'b.'. k is black, r red and g green.\n",
        "  plt.plot(x, y, 'b.')\n",
        "  plt.plot(x, y, 'r-')\n",
        "\n",
        "  #count how many values of y are less than zero:\n",
        "  num_y_less_than_zero = np.count_nonzero(y < 0)\n",
        "\n",
        "  #find the 4 smallest values of y\n",
        "  n_smallest = 4\n",
        "  indices_of_smallest = np.argpartition(y, n_smallest)[:n_smallest]\n",
        "  print(\"Smallest values of y:\", y[indices_of_smallest])\n",
        "\n",
        "  #get the absolute of y\n",
        "  y_abs = np.abs(y)\n",
        "\n",
        "  #generate two random sets of values x1 and x2\n",
        "  n_points = 20\n",
        "  x1 = np.random.normal(loc=0,scale=1,size=n_points)\n",
        "  x2 = np.random.normal(loc=0,scale=1,size=n_points)\n",
        "  #Combine two vectors x1 and x2, of length n_points, into\n",
        "  # a matrix of size n_points x 2\n",
        "  X = np.column_stack([x1, x2])\n",
        "\n",
        "  print(X.shape)\n",
        "  #add an extra empty dimension to X\n",
        "  X = X.reshape([n_points,2,1])\n",
        "  print(X.shape)\n",
        "  #now remove the redundant dimension:\n",
        "  X = X.squeeze()\n",
        "  print(X.shape)\n",
        "\n",
        "  y = np.zeros([n_points,1]) #define y and set all values to zero\n",
        "  #now put all the class values to 1 where the x1 value is\n",
        "  # greater than 0.2\n",
        "  y[x1 > 0.2] = 1\n",
        "\n",
        "#useful_code()\n"
      ]
    },
    {
      "cell_type": "code",
      "execution_count": null,
      "metadata": {
        "id": "8i3c49P-ANTo"
      },
      "outputs": [],
      "source": [
        "# --- ANSWER FOR Q1 HERE: ---"
      ]
    },
    {
      "cell_type": "markdown",
      "metadata": {
        "id": "j6JM_YXvDHgq"
      },
      "source": [
        "They mustn't have a 1 in the 3rd point since they must be all be orthogonal to one another.\n",
        "Dot product must equal 0\n",
        "(a,b,c,d) . (0, 0, 1, 0) = c so c in any other PC cannot be 1 for it to dot to 0 with the given vector"
      ]
    },
    {
      "cell_type": "code",
      "execution_count": null,
      "metadata": {
        "id": "0r1HNA0lASPi"
      },
      "outputs": [],
      "source": [
        "# --- END ANSWER FOR Q1 ---"
      ]
    },
    {
      "cell_type": "code",
      "execution_count": null,
      "metadata": {
        "id": "kZtoqViGLqyd"
      },
      "outputs": [],
      "source": [
        "# --- ANSWER FOR Q2(a) HERE: ---\n",
        "\n",
        "# m Sx1 Sx2\n",
        "# Sxi Sx1x1 Sx1x2\n",
        "# Sx2 Sx1x2 Sx2x2\n",
        "\n",
        "# B0\n",
        "# B1\n",
        "# B2\n",
        "\n",
        "# =\n",
        "\n",
        "# Sy\n",
        "# Sx1y\n",
        "# Sx2y\n"
      ]
    },
    {
      "cell_type": "code",
      "execution_count": null,
      "metadata": {
        "id": "Z07DZ0S4Ltkj"
      },
      "outputs": [],
      "source": [
        "# --- END ANSWER FOR Q2(a) ---"
      ]
    },
    {
      "cell_type": "code",
      "execution_count": null,
      "metadata": {
        "id": "h6vIMzKgzAAP"
      },
      "outputs": [
        {
          "name": "stdout",
          "output_type": "stream",
          "text": [
            "[1.4671747] [0.64310725]\n"
          ]
        },
        {
          "data": {
            "text/plain": [
              "[<matplotlib.lines.Line2D at 0x1ec769df250>]"
            ]
          },
          "execution_count": 16,
          "metadata": {},
          "output_type": "execute_result"
        },
        {
          "data": {
            "image/png": "[encoded data removed]",
            "text/plain": [
              "<Figure size 640x480 with 1 Axes>"
            ]
          },
          "metadata": {},
          "output_type": "display_data"
        }
      ],
      "source": [
        "# --- ANSWER FOR Q2(b) HERE: ---\n",
        "#load the data\n",
        "df = pd.read_csv(\"d2b.csv\")\n",
        "x = np.array(df['x'])\n",
        "y = np.array(df['y'])\n",
        "plt.scatter(x, y)\n",
        "y = np.log(y)\n",
        "m = x.size\n",
        "\n",
        "\n",
        "\n",
        "sx = np.sum(x)\n",
        "sx2 = np.sum(x**2)\n",
        "sy = np.sum(y)\n",
        "sxy = np.sum(x*y)\n",
        "\n",
        "A = np.array([[m, sx], [sx, sx2]])\n",
        "C = np.array([[sy], [sxy]])\n",
        "\n",
        "B = np.linalg.solve(A, C)\n",
        "c1 = np.exp(B[0])\n",
        "c2 = B[1]\n",
        "print(c1, c2)\n",
        "def y_pred(x):\n",
        "  return c1*np.exp(c2*x)\n",
        "\n",
        "xrange = np.linspace(-3, 3, 100)\n",
        "\n",
        "plt.plot(xrange, y_pred(xrange), 'r-')\n",
        "\n"
      ]
    },
    {
      "cell_type": "code",
      "execution_count": null,
      "metadata": {
        "id": "2X5XEpGzIPMh"
      },
      "outputs": [],
      "source": [
        "# --- END ANSWER FOR Q2(b) ---"
      ]
    },
    {
      "cell_type": "code",
      "execution_count": 19,
      "metadata": {
        "id": "0p6lKvAA14QW"
      },
      "outputs": [
        {
          "name": "stdout",
          "output_type": "stream",
          "text": [
            "[-4.94594332] [-1.01340891] [1.68879066]\n"
          ]
        },
        {
          "data": {
            "text/plain": [
              "[<matplotlib.lines.Line2D at 0x1ec7823bd90>]"
            ]
          },
          "execution_count": 19,
          "metadata": {},
          "output_type": "execute_result"
        },
        {
          "data": {
            "image/png": "[encoded data removed]",
            "text/plain": [
              "<Figure size 640x480 with 1 Axes>"
            ]
          },
          "metadata": {},
          "output_type": "display_data"
        }
      ],
      "source": [
        "# --- ANSWER FOR Q2(c) HERE: ---\n",
        "#load the data\n",
        "df = pd.read_csv(\"d2c.csv\")\n",
        "x = np.array(df['x'])\n",
        "y = np.array(df['y'])\n",
        "\n",
        "plt.scatter(x, y) # Scatter plot of the data\n",
        "\n",
        "m = x.size\n",
        "xrange = np.linspace(-3, 3, m) # Range of x values\n",
        "\n",
        "def f(x, C, D, E): # Function to fit with unknown parameters\n",
        "    return C * x + D + E * np.exp(x)\n",
        "\n",
        "sx = np.sum(x) # See working for the following calculations\n",
        "sx2 = np.sum(x**2)\n",
        "sex = np.sum(np.exp(x))\n",
        "sxex = np.sum(np.exp(x) * x)\n",
        "se2x = np.sum(np.exp(2 * x))\n",
        "sxy = np.sum(x * y)\n",
        "syex = np.sum(y * np.exp(x))\n",
        "sy = np.sum(y)\n",
        "\n",
        "A_mat = np.array([[sx2, sx, sxex], [sx, m, sex], [sxex, sex, se2x]]) # 3x3 matrix \n",
        "B_mat = np.array([[sxy, sy, syex]]).T # 3x1 matrix\n",
        "\n",
        "C, D, E = np.linalg.solve(A_mat, B_mat) # Solve for constants and unpack\n",
        "print(C, D, E)\n",
        "\n",
        "plt.plot(xrange, f(xrange, C, D, E), color=\"red\") # Plot the fitted function in red\n",
        "\n",
        "\n"
      ]
    },
    {
      "cell_type": "code",
      "execution_count": null,
      "metadata": {
        "id": "p8lnQakSIReB"
      },
      "outputs": [],
      "source": [
        "# --- END ANSWER FOR Q2(c) ---"
      ]
    },
    {
      "cell_type": "code",
      "execution_count": null,
      "metadata": {
        "id": "gmwEqUKbIRWu"
      },
      "outputs": [],
      "source": [
        "# --- ANSWER FOR Q2(d) HERE: ---"
      ]
    },
    {
      "cell_type": "markdown",
      "metadata": {
        "id": "WbELW46RXx6O"
      },
      "source": [
        "High lambda means underfitting - high bias and low variance"
      ]
    },
    {
      "cell_type": "code",
      "execution_count": null,
      "metadata": {
        "id": "6uZwwA3yITIQ"
      },
      "outputs": [],
      "source": [
        "# --- END ANSWER FOR Q2(d) ---"
      ]
    },
    {
      "cell_type": "code",
      "execution_count": null,
      "metadata": {
        "id": "ye31DdwuIdt7"
      },
      "outputs": [],
      "source": [
        "# --- ANSWER FOR Q3(a) HERE: ---"
      ]
    },
    {
      "cell_type": "markdown",
      "metadata": {
        "id": "tBzrWsDdVdb3"
      },
      "source": [
        "20 trainable weights - 12 between the 1st and 2nd layers, and 8 between  the 2nd and 3rd (don't forget about the bias weight)\n"
      ]
    },
    {
      "cell_type": "code",
      "execution_count": null,
      "metadata": {
        "id": "r6G_0DjLIf_b"
      },
      "outputs": [],
      "source": [
        "# --- END ANSWER FOR Q3(a) ---"
      ]
    },
    {
      "cell_type": "code",
      "execution_count": 21,
      "metadata": {
        "id": "lkX5xCPepdXn"
      },
      "outputs": [
        {
          "name": "stdout",
          "output_type": "stream",
          "text": [
            "3.2057852243701115\n"
          ]
        }
      ],
      "source": [
        "# --- ANSWER FOR Q3(b) HERE: ---\n",
        "#load the data\n",
        "df = pd.read_csv(\"http://pogo.software/me4ml/quehi/d3.csv\")\n",
        "x1 = np.array(df['x1'])\n",
        "x2 = np.array(df['x2'])\n",
        "t = np.array(df['y'])\n",
        "n_points = x.size\n",
        "\n",
        "def sigmoid(x):\n",
        "  return 1/(1+np.exp(-x))\n",
        "\n",
        "def J(tm, zm):\n",
        "  return np.sum(0.5 * (tm - zm) ** 2)\n",
        "\n",
        "y1 = -2 * x1 + 3 * x2 + 3\n",
        "y1 = sigmoid(y1)\n",
        "y2 = -0.3 * x1 - 1 * x2 + 0.3\n",
        "y2 = sigmoid(y2)\n",
        "\n",
        "z1 = 1.5 * y1 + 1 * y2 - 1.8\n",
        "z1 = sigmoid(z1)\n",
        "\n",
        "cost = J(t, z1)\n",
        "print(cost)\n",
        "\n",
        "\n"
      ]
    },
    {
      "cell_type": "code",
      "execution_count": null,
      "metadata": {
        "id": "gxaqpgtOIi7t"
      },
      "outputs": [],
      "source": [
        "# --- END ANSWER FOR Q3(b) ---"
      ]
    },
    {
      "cell_type": "code",
      "execution_count": null,
      "metadata": {
        "id": "ICgRPnwmJBAx"
      },
      "outputs": [],
      "source": [
        "# --- ANSWER FOR Q3(c) HERE: ---"
      ]
    },
    {
      "cell_type": "markdown",
      "metadata": {
        "id": "qmSglSoF1h6L"
      },
      "source": [
        "3(c)"
      ]
    },
    {
      "cell_type": "code",
      "execution_count": null,
      "metadata": {
        "id": "yhaCooWM1jTc"
      },
      "outputs": [],
      "source": []
    },
    {
      "cell_type": "code",
      "execution_count": null,
      "metadata": {
        "id": "9jdqCjI5Ik2n"
      },
      "outputs": [],
      "source": [
        "# --- END ANSWER FOR Q3(c) ---"
      ]
    },
    {
      "cell_type": "code",
      "execution_count": null,
      "metadata": {
        "id": "2egKYkEmBRfA"
      },
      "outputs": [],
      "source": [
        "# --- ANSWER FOR Q4 HERE: ---"
      ]
    },
    {
      "cell_type": "markdown",
      "metadata": {
        "id": "jJdyAltvoWIu"
      },
      "source": []
    },
    {
      "cell_type": "code",
      "execution_count": null,
      "metadata": {
        "id": "q_atUf7uA5LJ"
      },
      "outputs": [],
      "source": [
        "# --- END ANSWER FOR Q4 ---"
      ]
    },
    {
      "cell_type": "markdown",
      "metadata": {
        "id": "uWjjDIKmJNE_"
      },
      "source": [
        "5."
      ]
    },
    {
      "cell_type": "code",
      "execution_count": null,
      "metadata": {
        "id": "iH9sOHlmlT0c"
      },
      "outputs": [],
      "source": [
        "# --- ANSWER FOR Q5 HERE: ---\n",
        "\n",
        "#load the data\n",
        "df = pd.read_csv(\"http://pogo.software/me4ml/quehi/d5.csv\")\n",
        "x1 = np.array(df['x1'])\n",
        "x2 = np.array(df['x2'])\n",
        "y = np.array(df['y'])\n",
        "n_points = x1.size\n"
      ]
    },
    {
      "cell_type": "code",
      "execution_count": null,
      "metadata": {
        "id": "hnyR4nHKA6pu"
      },
      "outputs": [],
      "source": [
        "# --- END ANSWER FOR Q5 ---"
      ]
    },
    {
      "cell_type": "markdown",
      "metadata": {
        "id": "wswC2AcNTeRe"
      },
      "source": [
        "6.\n"
      ]
    },
    {
      "cell_type": "code",
      "execution_count": null,
      "metadata": {
        "id": "JRB-AFAwT1mW"
      },
      "outputs": [],
      "source": [
        "# --- ANSWER FOR Q6 HERE: ---\n",
        "\n"
      ]
    },
    {
      "cell_type": "code",
      "execution_count": null,
      "metadata": {
        "id": "WB_7sg4OA8E7"
      },
      "outputs": [],
      "source": [
        "# --- END ANSWER FOR Q6 ---"
      ]
    },
    {
      "cell_type": "markdown",
      "metadata": {
        "id": "g1eenII_6ekJ"
      },
      "source": [
        "7."
      ]
    },
    {
      "cell_type": "code",
      "execution_count": null,
      "metadata": {
        "id": "LWLdHExQc-UK"
      },
      "outputs": [],
      "source": [
        "# --- ANSWER FOR Q7 HERE: ---\n",
        "\n",
        "#load the data\n",
        "df = pd.read_csv(\"http://pogo.software/me4ml/quehi/d7.csv\")\n",
        "x1 = np.array(df['x1'])\n",
        "x2 = np.array(df['x2'])\n",
        "y = np.array(df['y'])\n",
        "n_points = x1.size\n",
        "\n"
      ]
    },
    {
      "cell_type": "code",
      "execution_count": null,
      "metadata": {
        "id": "mNO26BikA-ZM"
      },
      "outputs": [],
      "source": [
        "# --- END ANSWER FOR Q7 ---"
      ]
    },
    {
      "cell_type": "code",
      "execution_count": null,
      "metadata": {
        "id": "SF4GESum7KVh"
      },
      "outputs": [],
      "source": [
        "# --- ANSWER FOR Q8(a) HERE: ---\n",
        "\n",
        "#load in the data\n",
        "df = pd.read_csv(\"http://pogo.software/me4ml/quehi/d8.csv\")\n",
        "x1 = np.array(df['x1'])\n",
        "x2 = np.array(df['x2'])\n",
        "x3 = np.array(df['x3'])\n",
        "x4 = np.array(df['x4'])\n",
        "X = np.column_stack((x1, x2, x3, x4))\n",
        "y = np.array(df['y'])\n",
        "\n",
        "n_points = x1.size\n",
        "\n",
        "\n"
      ]
    },
    {
      "cell_type": "code",
      "execution_count": null,
      "metadata": {
        "id": "BKPQmOPIJfmO"
      },
      "outputs": [],
      "source": [
        "# --- END ANSWER FOR Q8(a) ---"
      ]
    },
    {
      "cell_type": "code",
      "execution_count": null,
      "metadata": {
        "id": "BByjik8-B0N7"
      },
      "outputs": [],
      "source": [
        "# --- ANSWER FOR Q8(b) HERE: ---\n",
        "\n"
      ]
    },
    {
      "cell_type": "code",
      "execution_count": null,
      "metadata": {
        "id": "SAjUOkLXJdmM"
      },
      "outputs": [],
      "source": [
        "# --- END ANSWER FOR Q8(b) ---"
      ]
    },
    {
      "cell_type": "code",
      "execution_count": null,
      "metadata": {
        "id": "Vmwg89XkqXQm"
      },
      "outputs": [],
      "source": [
        "# --- ANSWER FOR Q8(c) HERE: ---"
      ]
    },
    {
      "cell_type": "markdown",
      "metadata": {
        "id": "OmXvH79Sqgwi"
      },
      "source": []
    },
    {
      "cell_type": "code",
      "execution_count": null,
      "metadata": {
        "id": "0VlEEPX3qZZS"
      },
      "outputs": [],
      "source": [
        "# --- END ANSWER FOR Q8(c) ---"
      ]
    }
  ],
  "metadata": {
    "colab": {
      "provenance": []
    },
    "kernelspec": {
      "display_name": "machine_learning",
      "language": "python",
      "name": "python3"
    },
    "language_info": {
      "codemirror_mode": {
        "name": "ipython",
        "version": 3
      },
      "file_extension": ".py",
      "mimetype": "text/x-python",
      "name": "python",
      "nbconvert_exporter": "python",
      "pygments_lexer": "ipython3",
      "version": "3.10.13"
    }
  },
  "nbformat": 4,
  "nbformat_minor": 0
}
