{
  "cells": [
    {
      "cell_type": "code",
      "execution_count": null,
      "metadata": {
        "id": "FJNY_5bt7ppD"
      },
      "outputs": [],
      "source": [
        "import numpy as np\n",
        "import matplotlib.pyplot as plt\n",
        "import pandas as pd\n",
        "\n",
        "def useful_code():\n",
        "\n",
        "  #Multiply two matrices together:\n",
        "  A = np.array([[1,2],[3,4]])\n",
        "  B = np.array([[5,6],[7,8]])\n",
        "  C = np.matmul(A, B)\n",
        "  print(\"Multiplication of \\n\", A, \"\\nand\\n\", B, \"\\ngives:\\n\", C)\n",
        "\n",
        "  d = np.array([[3], [-2],])\n",
        "\n",
        "  #matrix solving for Ax = d:\n",
        "  x = np.linalg.solve(A, d)\n",
        "\n",
        "  d_check = np.matmul(A, x)\n",
        "  print(d_check, \"should match\", d)\n",
        "\n",
        "  #logarithms:\n",
        "  b = 0.145\n",
        "  a = np.log(b)\n",
        "  print(\"log of \"+str(b)+\" is \"+str(a)+\". exp of \"+str(a)+\" is \"+str(np.exp(a))+\".\")\n",
        "\n",
        "  x_low = 0\n",
        "  x_high = 2*np.pi\n",
        "  n_x_values = 20\n",
        "  #define a set of n_x_values points between x_low and x_high (0 to\n",
        "  #2 pi in this case):\n",
        "  x = np.linspace(x_low,x_high,n_x_values)\n",
        "  y = np.cos(x)\n",
        "\n",
        "  #summing and squaring:\n",
        "  print(\"Sum of y squared: \", np.sum(y**2))\n",
        "\n",
        "  #demonstrate a for loop\n",
        "  y2_total = 0\n",
        "  for cnt in range(n_x_values):\n",
        "    y2_total = y2_total + y[cnt]*y[cnt]\n",
        "  print(y2_total)\n",
        "\n",
        "\n",
        "  #Plotting functions/points:\n",
        "  fig, ax = plt.subplots()  #define a figure\n",
        "  #plot the points given by vectors x and y with a red\n",
        "  #solid line ('r-'), and blue dots 'b.'. k is black, r red and g green.\n",
        "  plt.plot(x, y, 'b.')\n",
        "  plt.plot(x, y, 'r-')\n",
        "\n",
        "  #count how many values of y are less than zero:\n",
        "  num_y_less_than_zero = np.count_nonzero(y < 0)\n",
        "\n",
        "  #find the 4 smallest values of y\n",
        "  n_smallest = 4\n",
        "  indices_of_smallest = np.argpartition(y, n_smallest)[:n_smallest]\n",
        "  print(\"Smallest values of y:\", y[indices_of_smallest])\n",
        "\n",
        "  #get the absolute of y\n",
        "  y_abs = np.abs(y)\n",
        "\n",
        "  #generate two random sets of values x1 and x2\n",
        "  n_points = 20\n",
        "  x1 = np.random.normal(loc=0,scale=1,size=n_points)\n",
        "  x2 = np.random.normal(loc=0,scale=1,size=n_points)\n",
        "  #Combine two vectors x1 and x2, of length n_points, into\n",
        "  # a matrix of size n_points x 2\n",
        "  X = np.column_stack([x1, x2])\n",
        "\n",
        "  print(X.shape)\n",
        "  #add an extra empty dimension to X\n",
        "  X = X.reshape([n_points,2,1])\n",
        "  print(X.shape)\n",
        "  #now remove the redundant dimension:\n",
        "  X = X.squeeze()\n",
        "  print(X.shape)\n",
        "\n",
        "  y = np.zeros([n_points,1]) #define y and set all values to zero\n",
        "  #now put all the class values to 1 where the x1 value is\n",
        "  # greater than 0.2\n",
        "  y[x1 > 0.2] = 1\n",
        "\n",
        "#useful_code()\n"
      ]
    },
    {
      "cell_type": "code",
      "execution_count": null,
      "metadata": {
        "id": "8i3c49P-ANTo"
      },
      "outputs": [],
      "source": [
        "# --- ANSWER FOR Q1 HERE: ---"
      ]
    },
    {
      "cell_type": "markdown",
      "metadata": {
        "id": "j6JM_YXvDHgq"
      },
      "source": []
    },
    {
      "cell_type": "code",
      "execution_count": null,
      "metadata": {
        "id": "0r1HNA0lASPi"
      },
      "outputs": [],
      "source": [
        "# --- END ANSWER FOR Q1 ---"
      ]
    },
    {
      "cell_type": "code",
      "execution_count": null,
      "metadata": {
        "id": "kZtoqViGLqyd"
      },
      "outputs": [],
      "source": [
        "# --- ANSWER FOR Q2(a) HERE: ---\n",
        "\n",
        "#You may put your answer as commented code or in a text cell\n"
      ]
    },
    {
      "cell_type": "code",
      "execution_count": null,
      "metadata": {
        "id": "Z07DZ0S4Ltkj"
      },
      "outputs": [],
      "source": [
        "# --- END ANSWER FOR Q2(a) ---"
      ]
    },
    {
      "cell_type": "code",
      "execution_count": null,
      "metadata": {
        "id": "h6vIMzKgzAAP"
      },
      "outputs": [],
      "source": [
        "# --- ANSWER FOR Q2(b) HERE: ---\n",
        "#load the data\n",
        "df = pd.read_csv(\"http://pogo.software/me4ml/quehi/d2b.csv\")\n",
        "x = np.array(df['x'])\n",
        "y = np.array(df['y'])\n",
        "n_points = x.size\n",
        "\n"
      ]
    },
    {
      "cell_type": "code",
      "execution_count": null,
      "metadata": {
        "id": "2X5XEpGzIPMh"
      },
      "outputs": [],
      "source": [
        "# --- END ANSWER FOR Q2(b) ---"
      ]
    },
    {
      "cell_type": "code",
      "execution_count": null,
      "metadata": {
        "id": "0p6lKvAA14QW"
      },
      "outputs": [],
      "source": [
        "# --- ANSWER FOR Q2(c) HERE: ---\n",
        "#load the data\n",
        "df = pd.read_csv(\"http://pogo.software/me4ml/quehi/d2c.csv\")\n",
        "x = np.array(df['x'])\n",
        "y = np.array(df['y'])\n",
        "n_points = x.size\n",
        "\n",
        "\n"
      ]
    },
    {
      "cell_type": "code",
      "execution_count": null,
      "metadata": {
        "id": "p8lnQakSIReB"
      },
      "outputs": [],
      "source": [
        "# --- END ANSWER FOR Q2(c) ---"
      ]
    },
    {
      "cell_type": "code",
      "execution_count": null,
      "metadata": {
        "id": "gmwEqUKbIRWu"
      },
      "outputs": [],
      "source": [
        "# --- ANSWER FOR Q2(d) HERE: ---"
      ]
    },
    {
      "cell_type": "markdown",
      "metadata": {
        "id": "WbELW46RXx6O"
      },
      "source": []
    },
    {
      "cell_type": "code",
      "execution_count": null,
      "metadata": {
        "id": "6uZwwA3yITIQ"
      },
      "outputs": [],
      "source": [
        "# --- END ANSWER FOR Q2(d) ---"
      ]
    },
    {
      "cell_type": "code",
      "execution_count": null,
      "metadata": {
        "id": "ye31DdwuIdt7"
      },
      "outputs": [],
      "source": [
        "# --- ANSWER FOR Q3(a) HERE: ---"
      ]
    },
    {
      "cell_type": "markdown",
      "metadata": {
        "id": "tBzrWsDdVdb3"
      },
      "source": [
        "\n"
      ]
    },
    {
      "cell_type": "code",
      "execution_count": null,
      "metadata": {
        "id": "r6G_0DjLIf_b"
      },
      "outputs": [],
      "source": [
        "# --- END ANSWER FOR Q3(a) ---"
      ]
    },
    {
      "cell_type": "code",
      "execution_count": null,
      "metadata": {
        "id": "lkX5xCPepdXn"
      },
      "outputs": [],
      "source": [
        "# --- ANSWER FOR Q3(b) HERE: ---\n",
        "#load the data\n",
        "df = pd.read_csv(\"http://pogo.software/me4ml/quehi/d3.csv\")\n",
        "x1 = np.array(df['x1'])\n",
        "x2 = np.array(df['x2'])\n",
        "t = np.array(df['y'])\n",
        "n_points = x.size\n",
        "\n",
        "\n"
      ]
    },
    {
      "cell_type": "code",
      "execution_count": null,
      "metadata": {
        "id": "gxaqpgtOIi7t"
      },
      "outputs": [],
      "source": [
        "# --- END ANSWER FOR Q3(b) ---"
      ]
    },
    {
      "cell_type": "code",
      "execution_count": null,
      "metadata": {
        "id": "ICgRPnwmJBAx"
      },
      "outputs": [],
      "source": [
        "# --- ANSWER FOR Q3(c) HERE: ---"
      ]
    },
    {
      "cell_type": "markdown",
      "metadata": {
        "id": "qmSglSoF1h6L"
      },
      "source": [
        "3(c)"
      ]
    },
    {
      "cell_type": "code",
      "execution_count": null,
      "metadata": {
        "id": "yhaCooWM1jTc"
      },
      "outputs": [],
      "source": []
    },
    {
      "cell_type": "code",
      "execution_count": null,
      "metadata": {
        "id": "9jdqCjI5Ik2n"
      },
      "outputs": [],
      "source": [
        "# --- END ANSWER FOR Q3(c) ---"
      ]
    },
    {
      "cell_type": "code",
      "execution_count": null,
      "metadata": {
        "id": "2egKYkEmBRfA"
      },
      "outputs": [],
      "source": [
        "# --- ANSWER FOR Q4 HERE: ---"
      ]
    },
    {
      "cell_type": "markdown",
      "metadata": {
        "id": "jJdyAltvoWIu"
      },
      "source": []
    },
    {
      "cell_type": "code",
      "execution_count": null,
      "metadata": {
        "id": "q_atUf7uA5LJ"
      },
      "outputs": [],
      "source": [
        "# --- END ANSWER FOR Q4 ---"
      ]
    },
    {
      "cell_type": "markdown",
      "metadata": {
        "id": "uWjjDIKmJNE_"
      },
      "source": [
        "5."
      ]
    },
    {
      "cell_type": "code",
      "execution_count": null,
      "metadata": {
        "id": "iH9sOHlmlT0c"
      },
      "outputs": [],
      "source": [
        "# --- ANSWER FOR Q5 HERE: ---\n",
        "\n",
        "#load the data\n",
        "df = pd.read_csv(\"http://pogo.software/me4ml/quehi/d5.csv\")\n",
        "x1 = np.array(df['x1'])\n",
        "x2 = np.array(df['x2'])\n",
        "y = np.array(df['y'])\n",
        "n_points = x1.size\n"
      ]
    },
    {
      "cell_type": "code",
      "execution_count": null,
      "metadata": {
        "id": "hnyR4nHKA6pu"
      },
      "outputs": [],
      "source": [
        "# --- END ANSWER FOR Q5 ---"
      ]
    },
    {
      "cell_type": "markdown",
      "metadata": {
        "id": "wswC2AcNTeRe"
      },
      "source": [
        "6.\n"
      ]
    },
    {
      "cell_type": "code",
      "execution_count": null,
      "metadata": {
        "id": "JRB-AFAwT1mW"
      },
      "outputs": [],
      "source": [
        "# --- ANSWER FOR Q6 HERE: ---\n",
        "\n"
      ]
    },
    {
      "cell_type": "code",
      "execution_count": null,
      "metadata": {
        "id": "WB_7sg4OA8E7"
      },
      "outputs": [],
      "source": [
        "# --- END ANSWER FOR Q6 ---"
      ]
    },
    {
      "cell_type": "markdown",
      "metadata": {
        "id": "g1eenII_6ekJ"
      },
      "source": [
        "7."
      ]
    },
    {
      "cell_type": "code",
      "execution_count": null,
      "metadata": {
        "id": "LWLdHExQc-UK"
      },
      "outputs": [],
      "source": [
        "# --- ANSWER FOR Q7 HERE: ---\n",
        "\n",
        "#load the data\n",
        "df = pd.read_csv(\"http://pogo.software/me4ml/quehi/d7.csv\")\n",
        "x1 = np.array(df['x1'])\n",
        "x2 = np.array(df['x2'])\n",
        "y = np.array(df['y'])\n",
        "n_points = x1.size\n",
        "\n"
      ]
    },
    {
      "cell_type": "code",
      "execution_count": null,
      "metadata": {
        "id": "mNO26BikA-ZM"
      },
      "outputs": [],
      "source": [
        "# --- END ANSWER FOR Q7 ---"
      ]
    },
    {
      "cell_type": "code",
      "execution_count": null,
      "metadata": {
        "id": "SF4GESum7KVh"
      },
      "outputs": [],
      "source": [
        "# --- ANSWER FOR Q8(a) HERE: ---\n",
        "\n",
        "#load in the data\n",
        "df = pd.read_csv(\"http://pogo.software/me4ml/quehi/d8.csv\")\n",
        "x1 = np.array(df['x1'])\n",
        "x2 = np.array(df['x2'])\n",
        "x3 = np.array(df['x3'])\n",
        "x4 = np.array(df['x4'])\n",
        "X = np.column_stack((x1, x2, x3, x4))\n",
        "y = np.array(df['y'])\n",
        "\n",
        "n_points = x1.size\n",
        "\n",
        "\n"
      ]
    },
    {
      "cell_type": "code",
      "execution_count": null,
      "metadata": {
        "id": "BKPQmOPIJfmO"
      },
      "outputs": [],
      "source": [
        "# --- END ANSWER FOR Q8(a) ---"
      ]
    },
    {
      "cell_type": "code",
      "execution_count": null,
      "metadata": {
        "id": "BByjik8-B0N7"
      },
      "outputs": [],
      "source": [
        "# --- ANSWER FOR Q8(b) HERE: ---\n",
        "\n"
      ]
    },
    {
      "cell_type": "code",
      "execution_count": null,
      "metadata": {
        "id": "SAjUOkLXJdmM"
      },
      "outputs": [],
      "source": [
        "# --- END ANSWER FOR Q8(b) ---"
      ]
    },
    {
      "cell_type": "code",
      "execution_count": null,
      "metadata": {
        "id": "Vmwg89XkqXQm"
      },
      "outputs": [],
      "source": [
        "# --- ANSWER FOR Q8(c) HERE: ---"
      ]
    },
    {
      "cell_type": "markdown",
      "metadata": {
        "id": "OmXvH79Sqgwi"
      },
      "source": []
    },
    {
      "cell_type": "code",
      "execution_count": null,
      "metadata": {
        "id": "0VlEEPX3qZZS"
      },
      "outputs": [],
      "source": [
        "# --- END ANSWER FOR Q8(c) ---"
      ]
    }
  ],
  "metadata": {
    "colab": {
      "provenance": []
    },
    "kernelspec": {
      "display_name": "machine_learning",
      "language": "python",
      "name": "python3"
    },
    "language_info": {
      "name": "python",
      "version": "3.10.13"
    }
  },
  "nbformat": 4,
  "nbformat_minor": 0
}
