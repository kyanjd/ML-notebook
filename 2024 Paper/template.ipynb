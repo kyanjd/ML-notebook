{
  "cells": [
    {
      "cell_type": "code",
      "execution_count": 2,
      "metadata": {
        "id": "FJNY_5bt7ppD"
      },
      "outputs": [],
      "source": [
        "import numpy as np\n",
        "import matplotlib.pyplot as plt\n",
        "import pandas as pd\n",
        "\n",
        "def useful_code():\n",
        "\n",
        "  #Multiply two matrices together:\n",
        "  A = np.array([[1,2],[3,4]])\n",
        "  B = np.array([[5,6],[7,8]])\n",
        "  C = np.matmul(A, B)\n",
        "  print(\"Multiplication of \\n\", A, \"\\nand\\n\", B, \"\\ngives:\\n\", C)\n",
        "\n",
        "  d = np.array([[3], [-2],])\n",
        "\n",
        "  #matrix solving for Ax = d:\n",
        "  x = np.linalg.solve(A, d)\n",
        "\n",
        "  d_check = np.matmul(A, x)\n",
        "  print(d_check, \"should match\", d)\n",
        "\n",
        "  #logarithms:\n",
        "  b = 0.145\n",
        "  a = np.log(b)\n",
        "  print(\"log of \"+str(b)+\" is \"+str(a)+\". exp of \"+str(a)+\" is \"+str(np.exp(a))+\".\")\n",
        "\n",
        "  x_low = 0\n",
        "  x_high = 2*np.pi\n",
        "  n_x_values = 20\n",
        "  #define a set of n_x_values points between x_low and x_high (0 to\n",
        "  #2 pi in this case):\n",
        "  x = np.linspace(x_low,x_high,n_x_values)\n",
        "  y = np.cos(x)\n",
        "\n",
        "  #summing and squaring:\n",
        "  print(\"Sum of y squared: \", np.sum(y**2))\n",
        "\n",
        "  #demonstrate a for loop\n",
        "  y2_total = 0\n",
        "  for cnt in range(n_x_values):\n",
        "    y2_total = y2_total + y[cnt]*y[cnt]\n",
        "  print(y2_total)\n",
        "\n",
        "\n",
        "  #Plotting functions/points:\n",
        "  fig, ax = plt.subplots()  #define a figure\n",
        "  #plot the points given by vectors x and y with a red\n",
        "  #solid line ('r-'), and blue dots 'b.'. k is black, r red and g green.\n",
        "  plt.plot(x, y, 'b.')\n",
        "  plt.plot(x, y, 'r-')\n",
        "\n",
        "  #count how many values of y are less than zero:\n",
        "  num_y_less_than_zero = np.count_nonzero(y < 0)\n",
        "\n",
        "  #find the 4 smallest values of y\n",
        "  n_smallest = 4\n",
        "  indices_of_smallest = np.argpartition(y, n_smallest)[:n_smallest]\n",
        "  print(\"Smallest values of y:\", y[indices_of_smallest])\n",
        "\n",
        "  #get the absolute of y\n",
        "  y_abs = np.abs(y)\n",
        "\n",
        "  #generate two random sets of values x1 and x2\n",
        "  n_points = 20\n",
        "  x1 = np.random.normal(loc=0,scale=1,size=n_points)\n",
        "  x2 = np.random.normal(loc=0,scale=1,size=n_points)\n",
        "  #Combine two vectors x1 and x2, of length n_points, into\n",
        "  # a matrix of size n_points x 2\n",
        "  X = np.column_stack([x1, x2])\n",
        "\n",
        "  print(X.shape)\n",
        "  #add an extra empty dimension to X\n",
        "  X = X.reshape([n_points,2,1])\n",
        "  print(X.shape)\n",
        "  #now remove the redundant dimension:\n",
        "  X = X.squeeze()\n",
        "  print(X.shape)\n",
        "\n",
        "  y = np.zeros([n_points,1]) #define y and set all values to zero\n",
        "  #now put all the class values to 1 where the x1 value is\n",
        "  # greater than 0.2\n",
        "  y[x1 > 0.2] = 1\n",
        "\n",
        "#useful_code()\n"
      ]
    },
    {
      "cell_type": "code",
      "execution_count": null,
      "metadata": {
        "id": "8i3c49P-ANTo"
      },
      "outputs": [],
      "source": [
        "# --- ANSWER FOR Q1 HERE: ---"
      ]
    },
    {
      "cell_type": "markdown",
      "metadata": {
        "id": "j6JM_YXvDHgq"
      },
      "source": [
        "They mustn't have a 1 in the 3rd point since they must be all be orthogonal to one another.\n",
        "Dot product must equal 0\n",
        "(a,b,c,d) . (0, 0, 1, 0) = c so c in any other PC cannot be 1 for it to dot to 0 with the given vector"
      ]
    },
    {
      "cell_type": "code",
      "execution_count": null,
      "metadata": {
        "id": "0r1HNA0lASPi"
      },
      "outputs": [],
      "source": [
        "# --- END ANSWER FOR Q1 ---"
      ]
    },
    {
      "cell_type": "code",
      "execution_count": null,
      "metadata": {
        "id": "kZtoqViGLqyd"
      },
      "outputs": [],
      "source": [
        "# --- ANSWER FOR Q2(a) HERE: ---\n",
        "\n",
        "# m Sx1 Sx2\n",
        "# Sxi Sx1x1 Sx1x2\n",
        "# Sx2 Sx1x2 Sx2x2\n",
        "\n",
        "# B0\n",
        "# B1\n",
        "# B2\n",
        "\n",
        "# =\n",
        "\n",
        "# Sy\n",
        "# Sx1y\n",
        "# Sx2y\n"
      ]
    },
    {
      "cell_type": "code",
      "execution_count": null,
      "metadata": {
        "id": "Z07DZ0S4Ltkj"
      },
      "outputs": [],
      "source": [
        "# --- END ANSWER FOR Q2(a) ---"
      ]
    },
    {
      "cell_type": "code",
      "execution_count": null,
      "metadata": {
        "id": "h6vIMzKgzAAP"
      },
      "outputs": [
        {
          "name": "stdout",
          "output_type": "stream",
          "text": [
            "[1.4671747] [0.64310725]\n"
          ]
        },
        {
          "data": {
            "text/plain": [
              "[<matplotlib.lines.Line2D at 0x1ec769df250>]"
            ]
          },
          "execution_count": 16,
          "metadata": {},
          "output_type": "execute_result"
        },
        {
          "data": {
            "image/png": "[encoded data removed]",
            "text/plain": [
              "<Figure size 640x480 with 1 Axes>"
            ]
          },
          "metadata": {},
          "output_type": "display_data"
        }
      ],
      "source": [
        "# --- ANSWER FOR Q2(b) HERE: ---\n",
        "#load the data\n",
        "df = pd.read_csv(\"d2b.csv\")\n",
        "x = np.array(df['x'])\n",
        "y = np.array(df['y'])\n",
        "plt.scatter(x, y)\n",
        "y = np.log(y)\n",
        "m = x.size\n",
        "\n",
        "\n",
        "\n",
        "sx = np.sum(x)\n",
        "sx2 = np.sum(x**2)\n",
        "sy = np.sum(y)\n",
        "sxy = np.sum(x*y)\n",
        "\n",
        "A = np.array([[m, sx], [sx, sx2]])\n",
        "C = np.array([[sy], [sxy]])\n",
        "\n",
        "B = np.linalg.solve(A, C)\n",
        "c1 = np.exp(B[0])\n",
        "c2 = B[1]\n",
        "print(c1, c2)\n",
        "def y_pred(x):\n",
        "  return c1*np.exp(c2*x)\n",
        "\n",
        "xrange = np.linspace(-3, 3, 100)\n",
        "\n",
        "plt.plot(xrange, y_pred(xrange), 'r-')\n",
        "\n"
      ]
    },
    {
      "cell_type": "code",
      "execution_count": null,
      "metadata": {
        "id": "2X5XEpGzIPMh"
      },
      "outputs": [],
      "source": [
        "# --- END ANSWER FOR Q2(b) ---"
      ]
    },
    {
      "cell_type": "code",
      "execution_count": 19,
      "metadata": {
        "id": "0p6lKvAA14QW"
      },
      "outputs": [
        {
          "name": "stdout",
          "output_type": "stream",
          "text": [
            "[-4.94594332] [-1.01340891] [1.68879066]\n"
          ]
        },
        {
          "data": {
            "text/plain": [
              "[<matplotlib.lines.Line2D at 0x1ec7823bd90>]"
            ]
          },
          "execution_count": 19,
          "metadata": {},
          "output_type": "execute_result"
        },
        {
          "data": {
            "image/png": "[encoded data removed]",
            "text/plain": [
              "<Figure size 640x480 with 1 Axes>"
            ]
          },
          "metadata": {},
          "output_type": "display_data"
        }
      ],
      "source": [
        "# --- ANSWER FOR Q2(c) HERE: ---\n",
        "#load the data\n",
        "df = pd.read_csv(\"d2c.csv\")\n",
        "x = np.array(df['x'])\n",
        "y = np.array(df['y'])\n",
        "\n",
        "plt.scatter(x, y) # Scatter plot of the data\n",
        "\n",
        "m = x.size\n",
        "xrange = np.linspace(-3, 3, m) # Range of x values\n",
        "\n",
        "def f(x, C, D, E): # Function to fit with unknown parameters\n",
        "    return C * x + D + E * np.exp(x)\n",
        "\n",
        "sx = np.sum(x) # See working for the following calculations\n",
        "sx2 = np.sum(x**2)\n",
        "sex = np.sum(np.exp(x))\n",
        "sxex = np.sum(np.exp(x) * x)\n",
        "se2x = np.sum(np.exp(2 * x))\n",
        "sxy = np.sum(x * y)\n",
        "syex = np.sum(y * np.exp(x))\n",
        "sy = np.sum(y)\n",
        "\n",
        "A_mat = np.array([[sx2, sx, sxex], [sx, m, sex], [sxex, sex, se2x]]) # 3x3 matrix \n",
        "B_mat = np.array([[sxy, sy, syex]]).T # 3x1 matrix\n",
        "\n",
        "C, D, E = np.linalg.solve(A_mat, B_mat) # Solve for constants and unpack\n",
        "print(C, D, E)\n",
        "\n",
        "plt.plot(xrange, f(xrange, C, D, E), color=\"red\") # Plot the fitted function in red\n",
        "\n",
        "\n"
      ]
    },
    {
      "cell_type": "code",
      "execution_count": null,
      "metadata": {
        "id": "p8lnQakSIReB"
      },
      "outputs": [],
      "source": [
        "# --- END ANSWER FOR Q2(c) ---"
      ]
    },
    {
      "cell_type": "code",
      "execution_count": null,
      "metadata": {
        "id": "gmwEqUKbIRWu"
      },
      "outputs": [],
      "source": [
        "# --- ANSWER FOR Q2(d) HERE: ---"
      ]
    },
    {
      "cell_type": "markdown",
      "metadata": {
        "id": "WbELW46RXx6O"
      },
      "source": [
        "High lambda means underfitting - high bias and low variance"
      ]
    },
    {
      "cell_type": "code",
      "execution_count": null,
      "metadata": {
        "id": "6uZwwA3yITIQ"
      },
      "outputs": [],
      "source": [
        "# --- END ANSWER FOR Q2(d) ---"
      ]
    },
    {
      "cell_type": "code",
      "execution_count": null,
      "metadata": {
        "id": "ye31DdwuIdt7"
      },
      "outputs": [],
      "source": [
        "# --- ANSWER FOR Q3(a) HERE: ---"
      ]
    },
    {
      "cell_type": "markdown",
      "metadata": {
        "id": "tBzrWsDdVdb3"
      },
      "source": [
        "20 trainable weights - 12 between the 1st and 2nd layers, and 8 between  the 2nd and 3rd (don't forget about the bias weight)\n"
      ]
    },
    {
      "cell_type": "code",
      "execution_count": null,
      "metadata": {
        "id": "r6G_0DjLIf_b"
      },
      "outputs": [],
      "source": [
        "# --- END ANSWER FOR Q3(a) ---"
      ]
    },
    {
      "cell_type": "code",
      "execution_count": 21,
      "metadata": {
        "id": "lkX5xCPepdXn"
      },
      "outputs": [
        {
          "name": "stdout",
          "output_type": "stream",
          "text": [
            "3.2057852243701115\n"
          ]
        }
      ],
      "source": [
        "# --- ANSWER FOR Q3(b) HERE: ---\n",
        "#load the data\n",
        "df = pd.read_csv(\"http://pogo.software/me4ml/quehi/d3.csv\")\n",
        "x1 = np.array(df['x1'])\n",
        "x2 = np.array(df['x2'])\n",
        "t = np.array(df['y'])\n",
        "n_points = x.size\n",
        "\n",
        "def sigmoid(x):\n",
        "  return 1/(1+np.exp(-x))\n",
        "\n",
        "def J(tm, zm):\n",
        "  return np.sum(0.5 * (tm - zm) ** 2)\n",
        "\n",
        "y1 = -2 * x1 + 3 * x2 + 3\n",
        "y1 = sigmoid(y1)\n",
        "y2 = -0.3 * x1 - 1 * x2 + 0.3\n",
        "y2 = sigmoid(y2)\n",
        "\n",
        "z1 = 1.5 * y1 + 1 * y2 - 1.8\n",
        "z1 = sigmoid(z1)\n",
        "\n",
        "cost = J(t, z1)\n",
        "print(cost)\n",
        "\n",
        "\n"
      ]
    },
    {
      "cell_type": "code",
      "execution_count": null,
      "metadata": {
        "id": "gxaqpgtOIi7t"
      },
      "outputs": [],
      "source": [
        "# --- END ANSWER FOR Q3(b) ---"
      ]
    },
    {
      "cell_type": "code",
      "execution_count": null,
      "metadata": {
        "id": "ICgRPnwmJBAx"
      },
      "outputs": [],
      "source": [
        "# --- ANSWER FOR Q3(c) HERE: ---"
      ]
    },
    {
      "cell_type": "markdown",
      "metadata": {
        "id": "qmSglSoF1h6L"
      },
      "source": [
        "3(c)"
      ]
    },
    {
      "cell_type": "code",
      "execution_count": 43,
      "metadata": {
        "id": "yhaCooWM1jTc"
      },
      "outputs": [
        {
          "name": "stdout",
          "output_type": "stream",
          "text": [
            "1.0700074241628024 3.2057852243701115\n",
            "1.1349946870166023 2.7331710859714935\n",
            "1.1952012822243578 2.3263113580376578\n",
            "1.2508863162847639 1.9773973486328138\n",
            "1.3023193403158952 1.679124564599305\n",
            "1.3497729325603212 1.4248028196929003\n",
            "1.393516922195757 1.208406923134909\n",
            "1.4338140707726867 1.024583556481437\n",
            "1.4709169942692635 0.868627991924827\n",
            "1.5050661043162938 0.7364417481081803\n",
            "1.5364883609757836 0.6244796742591718\n",
            "1.565396653213816 0.5296926131313736\n",
            "1.591989650942316 0.44946985518400606\n",
            "1.616452000348976 0.3815840856153689\n",
            "1.6389547599436864 0.3241404054091014\n",
            "1.659655997226522 0.27553021353670354\n",
            "1.6787014847822814 0.23439020019855256\n",
            "1.6962254500351457 0.19956635633255126\n",
            "1.7123513451970722 0.17008269877610888\n",
            "1.7271926135569557 0.14511430100040387\n",
            "1.7408534356413843 0.12396417425983695\n",
            "1.7534294443582816 0.10604354006797514\n",
            "1.7650084023858295 0.0908550557619301\n",
            "1.7756708381058766 0.07797858938119775\n",
            "1.7854906385614588 0.06705918078395554\n",
            "1.7945355994486047 0.057796868159195505\n",
            "1.8028679331959003 0.049938100028452385\n",
            "1.8105447368676284 0.04326849087800821\n",
            "1.8176184220446083 0.03760671295191471\n",
            "1.8241371090647849 0.032799347217352184\n",
            "1.8301449880985858 0.028716543150368323\n",
            "1.835682649533415 0.025248360023446485\n",
            "1.8407873860779218 0.022301682137401496\n",
            "1.8454934688922353 0.019797617292724994\n",
            "1.849832399921344 0.017669302102859157\n",
            "1.8538331424667587 0.01586004985695277\n",
            "1.8575223318846423 0.014321786855317986\n",
            "1.8609244681522494 0.013013731745807456\n",
            "1.8640620919025235 0.011901279627921542\n",
            "1.8669559453913647 0.010955058775054267\n",
            "1.8696251197348228 0.010150132935270353\n",
            "1.8720871896349538 0.009465326461890574\n",
            "1.8743583367035495 0.008882653127952576\n",
            "1.8764534623922942 0.00838683250390548\n",
            "1.878386291445803 0.00796488031882121\n",
            "1.8801694667100193 0.00760576136020643\n",
            "1.8818146360520616 0.00730009526181004\n",
            "1.8833325320782606 0.007039907037649375\n",
            "1.8847330452742608 0.006818415489885592\n",
            "1.886025291134111 0.0066298536867260525\n",
            "1.887217671793725 0.006469316606499858\n",
            "1.8883179326374442 0.006332631802459606\n",
            "1.8893332143042332 0.0062162495823361134\n",
            "1.8902701004818427 0.006117149736162716\n",
            "1.891134661842704 0.006032762301273383\n",
            "1.89193249644402 0.0059609002379828035\n",
            "1.892668766886159 0.005899702214442084\n",
            "1.8933482344977546 0.005847583973915497\n",
            "1.8939752907926042 0.005803196990112515\n",
            "1.8945539864223047 0.005765393312860918\n",
            "1.8950880578293468 0.005733195672887043\n",
            "1.8955809517879338 0.005705772055467963\n",
            "1.8960358480039075 0.005682414072182418\n",
            "1.8964556799307113 0.0056625185612426635\n",
            "1.8968431539451645 0.005645571932740859\n",
            "1.8972007670148139 0.0056311368479595066\n",
            "1.8975308229777041 0.005618840883675204\n",
            "1.897835447545407 0.005608366884814282\n",
            "1.8981166021310445 0.005599444753328021\n",
            "1.8983760965957024 0.005591844458947764\n",
            "1.8986156009990107 0.0055853700895793145\n",
            "1.8988366564327008 0.005579854786364153\n",
            "1.8990406850095676 0.005575156431605096\n",
            "1.8992289990744184 0.00557115397744529\n",
            "1.8994028096982383 0.005567744319927134\n",
            "1.89956323451189 0.0055648396372879666\n",
            "1.899711304931165 0.005562365123448111\n",
            "1.8998479728208688 0.005560257057937737\n",
            "1.8999741166418347 0.0055584611622598035\n",
            "1.9000905471212686 0.005556931200131341\n",
            "1.9001980124836393 0.0055556277853787694\n",
            "1.9002972032763779 0.005554517366651694\n",
            "1.9003887568219555 0.005553571362704722\n",
            "1.900473261325416 0.005552765425899272\n",
            "1.9005512596641616 0.005552078814898331\n",
            "1.9006232528846798 0.005551493860353483\n",
            "1.9006897034289714 0.005550995509790033\n",
            "1.9007510381116521 0.0055505709399438045\n",
            "1.9008076508670668 0.005550209226547111\n",
            "1.90085990528424 0.005549901063046083\n",
            "1.9009081369461003 0.00554963852099472\n",
            "1.9009526555881318 0.005549414845948355\n",
            "1.9009937470904315 0.005549224283594315\n",
            "1.9010316753160579 0.0055490619316390915\n",
            "1.9010666838075585 0.0055489236136348295\n",
            "1.90109899735264 0.005548805771494598\n",
            "1.9011288234290948 0.0055487053739270275\n",
            "1.9011563535383096 0.005548619838432415\n",
            "1.9011817644359639 0.005548546964850775\n",
            "1.9012052192678564 0.005548484878750854\n"
          ]
        },
        {
          "data": {
            "text/plain": [
              "[<matplotlib.lines.Line2D at 0x1ec7e4c7b80>]"
            ]
          },
          "execution_count": 43,
          "metadata": {},
          "output_type": "execute_result"
        },
        {
          "data": {
            "image/png": "[encoded data removed]",
            "text/plain": [
              "<Figure size 640x480 with 1 Axes>"
            ]
          },
          "metadata": {},
          "output_type": "display_data"
        }
      ],
      "source": [
        "def sigmoid(x):\n",
        "  return 1/(1+np.exp(-x))\n",
        "\n",
        "def sigmoid_prime(x):\n",
        "  return sigmoid(x) * (1 - sigmoid(x))\n",
        "\n",
        "def backprop(step, w212):\n",
        "    net21 = 1.5 * y1 + w212 * y2 - 1.8\n",
        "    z1 = sigmoid(net21)\n",
        "    cost = np.sum(0.5 * (t - z1) ** 2)\n",
        "    delta = np.sum((t - z1) * sigmoid_prime(net21) * y2) * step\n",
        "    w212 += delta\n",
        "    return w212, cost\n",
        "\n",
        "w212 = 1\n",
        "steps = 100\n",
        "weight_list = []\n",
        "cost_list = []\n",
        "for _ in range(steps):\n",
        "   w212, cost = backprop(0.01, w212)\n",
        "   print(w212, cost)\n",
        "   weight_list.append(w212)\n",
        "   cost_list.append(cost)\n",
        "\n",
        "plt.plot(range(steps), weight_list, c=\"red\")\n",
        "plt.plot(range(steps), cost_list, c=\"blue\")\n",
        "\n",
        "  \n",
        "  "
      ]
    },
    {
      "cell_type": "code",
      "execution_count": null,
      "metadata": {
        "id": "9jdqCjI5Ik2n"
      },
      "outputs": [],
      "source": [
        "# --- END ANSWER FOR Q3(c) ---"
      ]
    },
    {
      "cell_type": "code",
      "execution_count": null,
      "metadata": {
        "id": "2egKYkEmBRfA"
      },
      "outputs": [],
      "source": [
        "# --- ANSWER FOR Q4 HERE: ---"
      ]
    },
    {
      "cell_type": "markdown",
      "metadata": {
        "id": "jJdyAltvoWIu"
      },
      "source": [
        "g(x) = (1, x, x^2, cos(x)).T . (A, B, C, D).T\n",
        "\n",
        "g(x) = y . a\n",
        "\n",
        "Project into a higher dimension to have A represent a weight for the new feature in this dimension, leaving the bias to be 0"
      ]
    },
    {
      "cell_type": "code",
      "execution_count": null,
      "metadata": {
        "id": "q_atUf7uA5LJ"
      },
      "outputs": [],
      "source": [
        "# --- END ANSWER FOR Q4 ---"
      ]
    },
    {
      "cell_type": "markdown",
      "metadata": {
        "id": "uWjjDIKmJNE_"
      },
      "source": [
        "5."
      ]
    },
    {
      "cell_type": "code",
      "execution_count": 16,
      "metadata": {
        "id": "iH9sOHlmlT0c"
      },
      "outputs": [
        {
          "name": "stdout",
          "output_type": "stream",
          "text": [
            "2.4975420365465295\n"
          ]
        },
        {
          "data": {
            "image/png": "[encoded data removed]",
            "text/plain": [
              "<Figure size 640x480 with 1 Axes>"
            ]
          },
          "metadata": {},
          "output_type": "display_data"
        }
      ],
      "source": [
        "# --- ANSWER FOR Q5 HERE: ---\n",
        "\n",
        "#load the data\n",
        "df = pd.read_csv(\"http://pogo.software/me4ml/quehi/d5.csv\")\n",
        "x1 = np.array(df['x1'])\n",
        "x2 = np.array(df['x2'])\n",
        "y = np.array(df['y'])\n",
        "n_points = x1.size\n",
        "\n",
        "w = np.array([-0.869, 0.494])\n",
        "w0 = 0.0982\n",
        "g = w[0] * x1 + w[1] * x2 + w0\n",
        "svm = y * g\n",
        "x2_func = -w0/w[1] - (w[0] * x1)/w[1]\n",
        "\n",
        "xrange = np.linspace(-1, 1.5, n_points)\n",
        "plt.scatter(x1, x2, c=y)\n",
        "plt.plot(x1, x2_func, c='red')\n",
        "\n",
        "margin = 0.23\n",
        "\n",
        "epsilon = 1 - (svm / margin)\n",
        "C = np.sum(epsilon[epsilon > 0])\n",
        "print(C)\n",
        "\n",
        "\n",
        "\n",
        "\n"
      ]
    },
    {
      "cell_type": "code",
      "execution_count": null,
      "metadata": {
        "id": "hnyR4nHKA6pu"
      },
      "outputs": [],
      "source": [
        "# --- END ANSWER FOR Q5 ---"
      ]
    },
    {
      "cell_type": "markdown",
      "metadata": {
        "id": "wswC2AcNTeRe"
      },
      "source": [
        "6.\n"
      ]
    },
    {
      "cell_type": "code",
      "execution_count": 18,
      "metadata": {
        "id": "JRB-AFAwT1mW"
      },
      "outputs": [
        {
          "name": "stdout",
          "output_type": "stream",
          "text": [
            "-24.0 -17.4 -12.000000000000002\n"
          ]
        }
      ],
      "source": [
        "# --- ANSWER FOR Q6 HERE: ---\n",
        "\n",
        "voters = 100\n",
        "# w1 = no lie,, w2 = lie\n",
        "# A = ignore, B = expel, C = investigate\n",
        "\n",
        "LA_w1 = 0\n",
        "LA_w2 = -30\n",
        "\n",
        "LB_w1 = -15\n",
        "LB_w2 = -18\n",
        "\n",
        "LC_w1 = -12\n",
        "LC_w2 = -12\n",
        "\n",
        "Pw1_x = 0.2\n",
        "Pw2_x = 0.8\n",
        "\n",
        "RA = (LA_w1 * Pw1_x) + (LA_w2 * Pw2_x)\n",
        "RB = (LB_w1 * Pw1_x) + (LB_w2 * Pw2_x)\n",
        "RC = (LC_w1 * Pw1_x) + (LC_w2 * Pw2_x)\n",
        "\n",
        "print(RA, RB, RC)\n"
      ]
    },
    {
      "cell_type": "code",
      "execution_count": null,
      "metadata": {
        "id": "WB_7sg4OA8E7"
      },
      "outputs": [],
      "source": [
        "# --- END ANSWER FOR Q6 ---"
      ]
    },
    {
      "cell_type": "markdown",
      "metadata": {
        "id": "g1eenII_6ekJ"
      },
      "source": [
        "7."
      ]
    },
    {
      "cell_type": "code",
      "execution_count": 30,
      "metadata": {
        "id": "LWLdHExQc-UK"
      },
      "outputs": [
        {
          "name": "stdout",
          "output_type": "stream",
          "text": [
            "0.45\n"
          ]
        },
        {
          "data": {
            "image/png": "[encoded data removed]",
            "text/plain": [
              "<Figure size 640x480 with 1 Axes>"
            ]
          },
          "metadata": {},
          "output_type": "display_data"
        }
      ],
      "source": [
        "# --- ANSWER FOR Q7 HERE: ---\n",
        "\n",
        "#load the data\n",
        "df = pd.read_csv(\"http://pogo.software/me4ml/quehi/d7.csv\")\n",
        "x1 = np.array(df['x1'])\n",
        "x2 = np.array(df['x2'])\n",
        "y = np.array(df['y'])\n",
        "n_points = x1.size\n",
        "\n",
        "\n",
        "n_vals = 21\n",
        "D_vals = np.linspace(0, 1, n_vals)\n",
        "\n",
        "#x1 search\n",
        "x1_gini = []\n",
        "x2_gini = []\n",
        "for D in D_vals:\n",
        "    under_y0 = len(x1[(x1 < D) & (y == 0)])\n",
        "    under_y1 = len(x1[(x1 < D) & (y == 1)])\n",
        "    over_y0 = len(x1[(x1 >= D) & (y == 0)])\n",
        "    over_y1 = len(x1[(x1 >= D) & (y == 1)])\n",
        "\n",
        "    under_tot = under_y0 + under_y1\n",
        "    over_tot = over_y0 + over_y1\n",
        "\n",
        "    gini_under = 1 - (under_y0/under_tot)**2 - (under_y1/under_tot)**2\n",
        "    gini_over = 1 - (over_y0/over_tot)**2 - (over_y1/over_tot)**2\n",
        "\n",
        "    p_under = under_tot / n_points\n",
        "    p_over = over_tot / n_points\n",
        "\n",
        "    weighted_gini = p_under * gini_under + p_over * gini_over\n",
        "    x1_gini.append(weighted_gini)\n",
        "\n",
        "    under_y0 = len(x2[(x2 < D) & (y == 0)])\n",
        "    under_y1 = len(x2[(x2 < D) & (y == 1)])\n",
        "    over_y0 = len(x2[(x2 >= D) & (y == 0)])\n",
        "    over_y1 = len(x2[(x2 >= D) & (y == 1)])\n",
        "\n",
        "    under_tot = under_y0 + under_y1\n",
        "    over_tot = over_y0 + over_y1\n",
        "\n",
        "    gini_under = 1 - (under_y0/under_tot)**2 - (under_y1/under_tot)**2\n",
        "    gini_over = 1 - (over_y0/over_tot)**2 - (over_y1/over_tot)**2\n",
        "\n",
        "    p_under = under_tot / n_points\n",
        "    p_over = over_tot / n_points\n",
        "\n",
        "    weighted_gini = p_under * gini_under + p_over * gini_over\n",
        "    x2_gini.append(weighted_gini)\n",
        "\n",
        "plt.plot(D_vals, x1_gini, c='red')\n",
        "plt.plot(D_vals, x2_gini, c='blue')\n",
        "print(D_vals[np.argmin(x1_gini)])"
      ]
    },
    {
      "cell_type": "code",
      "execution_count": null,
      "metadata": {
        "id": "mNO26BikA-ZM"
      },
      "outputs": [],
      "source": [
        "# --- END ANSWER FOR Q7 ---"
      ]
    },
    {
      "cell_type": "code",
      "execution_count": null,
      "metadata": {
        "id": "SF4GESum7KVh"
      },
      "outputs": [
        {
          "name": "stdout",
          "output_type": "stream",
          "text": [
            "264.0572096023428\n"
          ]
        },
        {
          "ename": "TypeError",
          "evalue": "object of type 'numpy.float64' has no len()",
          "output_type": "error",
          "traceback": [
            "\u001b[1;31m---------------------------------------------------------------------------\u001b[0m",
            "\u001b[1;31mTypeError\u001b[0m                                 Traceback (most recent call last)",
            "Cell \u001b[1;32mIn[64], line 20\u001b[0m\n\u001b[0;32m     18\u001b[0m dist \u001b[38;5;241m=\u001b[39m manhattan(X, p)\n\u001b[0;32m     19\u001b[0m \u001b[38;5;28mprint\u001b[39m(dist)\n\u001b[1;32m---> 20\u001b[0m \u001b[38;5;28mprint\u001b[39m(n_points, \u001b[38;5;28;43mlen\u001b[39;49m\u001b[43m(\u001b[49m\u001b[43mdist\u001b[49m\u001b[43m)\u001b[49m)\n\u001b[0;32m     22\u001b[0m sorted_index \u001b[38;5;241m=\u001b[39m np\u001b[38;5;241m.\u001b[39margsort(dist)[:\u001b[38;5;241m3\u001b[39m]\n\u001b[0;32m     23\u001b[0m classes \u001b[38;5;241m=\u001b[39m y[sorted_index]\n",
            "\u001b[1;31mTypeError\u001b[0m: object of type 'numpy.float64' has no len()"
          ]
        }
      ],
      "source": [
        "# --- ANSWER FOR Q8(a) HERE: ---\n",
        "\n",
        "#load in the data\n",
        "df = pd.read_csv(\"http://pogo.software/me4ml/quehi/d8.csv\")\n",
        "x1 = np.array(df['x1'])\n",
        "x2 = np.array(df['x2'])\n",
        "x3 = np.array(df['x3'])\n",
        "x4 = np.array(df['x4'])\n",
        "X = np.column_stack((x1, x2, x3, x4))\n",
        "y = np.array(df['y'])\n",
        "\n",
        "n_points = x1.size\n",
        "\n",
        "def manhattan(x, y):\n",
        "    return np.sum(np.abs(x - y), axis=1)\n",
        "\n",
        "p = np.array([[0, -1, 2, 1]])\n",
        "dist = manhattan(X, p)\n",
        "print(dist)\n",
        "print(n_points, len(dist))\n",
        "\n",
        "sorted_index = np.argsort(dist)[:3]\n",
        "classes = y[sorted_index]\n",
        "decision = np.where(np.mean(classes) > 0.5, 1, 0)\n",
        "print(decision)\n",
        "\n",
        "\n",
        "\n"
      ]
    },
    {
      "cell_type": "code",
      "execution_count": null,
      "metadata": {
        "id": "BKPQmOPIJfmO"
      },
      "outputs": [],
      "source": [
        "# --- END ANSWER FOR Q8(a) ---"
      ]
    },
    {
      "cell_type": "code",
      "execution_count": 73,
      "metadata": {
        "id": "BByjik8-B0N7"
      },
      "outputs": [
        {
          "name": "stdout",
          "output_type": "stream",
          "text": [
            "0.52 0.48\n",
            "0.0117835238475955 0.006577149328836313\n",
            "0.009284464078591091\n",
            "0.6599661917890142 0.34003380821098583\n"
          ]
        }
      ],
      "source": [
        "# --- ANSWER FOR Q8(b) HERE: ---\n",
        "df = pd.read_csv(\"http://pogo.software/me4ml/quehi/d8.csv\")\n",
        "x1 = np.array(df['x1'])\n",
        "x2 = np.array(df['x2'])\n",
        "x3 = np.array(df['x3'])\n",
        "x4 = np.array(df['x4'])\n",
        "X = np.column_stack((x1, x2, x3, x4))\n",
        "y = np.array(df['y'])\n",
        "\n",
        "n_points = x1.size\n",
        "\n",
        "def l2(x, y):\n",
        "    return np.sqrt(np.sum((x - y) ** 2, axis=1))\n",
        "\n",
        "def parzen(x, y, n):\n",
        "    dist = l2(x, y)\n",
        "    return np.sum((1 / (2 * np.pi)) * np.exp(-0.5 * dist ** 2))/ n\n",
        "\n",
        "\n",
        "p = np.array([[0, -1, 2, 1]])\n",
        "\n",
        "# find p(class|observation) = p(w|x) = p(x|w)p(w) / p(x)\n",
        "X0 = X[y == 0]\n",
        "X1 = X[y == 1]\n",
        "\n",
        "pw0 = len(X0) / n_points\n",
        "pw1 = len(X1) / n_points\n",
        "print(pw0, pw1)\n",
        "\n",
        "px_w0 = parzen(X0, p, len(X0))\n",
        "px_w1 = parzen(X1, p, len(X1))\n",
        "print(px_w0, px_w1)\n",
        "\n",
        "px = px_w0 * pw0 + px_w1 * pw1\n",
        "print(px)\n",
        "\n",
        "pw0_x = (px_w0 * pw0) / px\n",
        "pw1_x = (px_w1 * pw1) / px\n",
        "\n",
        "print(pw0_x, pw1_x)\n",
        "\n"
      ]
    },
    {
      "cell_type": "code",
      "execution_count": 70,
      "metadata": {},
      "outputs": [
        {
          "name": "stdout",
          "output_type": "stream",
          "text": [
            "0.52 0.48\n",
            "0.0117835238475955 0.006577149328836313\n",
            "0.009284464078591091\n",
            "0.6599661917890142 0.34003380821098583\n"
          ]
        }
      ],
      "source": [
        "abs_dist = np.abs(X - p)\n",
        "L2dist = np.sqrt(np.sum(abs_dist**2, axis=1))\n",
        "n_0 = np.count_nonzero(y==0)\n",
        "n_1 = np.count_nonzero(y==1)\n",
        "p_x_0 = np.sum(1/2/np.pi*np.exp(-1/2*L2dist[y==0]**2))/n_0\n",
        "p_x_1 = np.sum(1/2/np.pi*np.exp(-1/2*L2dist[y==1]**2))/n_1\n",
        "\n",
        "p_0 = n_0/(n_0+n_1)\n",
        "p_1 = n_1/(n_0+n_1)\n",
        "\n",
        "p_x = p_x_0 * p_0 + p_x_1 * p_1\n",
        "p_0_x = p_x_0 * p_0 / p_x\n",
        "p_1_x = p_x_1 * p_1 / p_x\n",
        "print(p_0, p_1)\n",
        "print(p_x_0, p_x_1)\n",
        "print(p_x)\n",
        "print(p_0_x, p_1_x)"
      ]
    },
    {
      "cell_type": "code",
      "execution_count": null,
      "metadata": {
        "id": "SAjUOkLXJdmM"
      },
      "outputs": [],
      "source": [
        "# --- END ANSWER FOR Q8(b) ---"
      ]
    },
    {
      "cell_type": "code",
      "execution_count": null,
      "metadata": {
        "id": "Vmwg89XkqXQm"
      },
      "outputs": [],
      "source": [
        "# --- ANSWER FOR Q8(c) HERE: ---"
      ]
    },
    {
      "cell_type": "markdown",
      "metadata": {
        "id": "OmXvH79Sqgwi"
      },
      "source": [
        "By classifying on the nearest neighbour (or neighbours), rather than defining a specific distance\n",
        "(which is the approach with a Parzen window), the routine automatically selects a suitable distance,\n",
        "simplifying model tuning. It also automatically accounts for localised differences in density in the\n",
        "training points through the dataset."
      ]
    },
    {
      "cell_type": "code",
      "execution_count": null,
      "metadata": {
        "id": "0VlEEPX3qZZS"
      },
      "outputs": [],
      "source": [
        "# --- END ANSWER FOR Q8(c) ---"
      ]
    }
  ],
  "metadata": {
    "colab": {
      "provenance": []
    },
    "kernelspec": {
      "display_name": "machine_learning",
      "language": "python",
      "name": "python3"
    },
    "language_info": {
      "codemirror_mode": {
        "name": "ipython",
        "version": 3
      },
      "file_extension": ".py",
      "mimetype": "text/x-python",
      "name": "python",
      "nbconvert_exporter": "python",
      "pygments_lexer": "ipython3",
      "version": "3.10.13"
    }
  },
  "nbformat": 4,
  "nbformat_minor": 0
}
