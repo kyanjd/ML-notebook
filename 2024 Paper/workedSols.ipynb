{
  "nbformat": 4,
  "nbformat_minor": 0,
  "metadata": {
    "colab": {
      "provenance": []
    },
    "kernelspec": {
      "name": "python3",
      "display_name": "Python 3"
    },
    "language_info": {
      "name": "python"
    }
  },
  "cells": [
    {
      "cell_type": "code",
      "source": [
        "import numpy as np\n",
        "import matplotlib.pyplot as plt\n",
        "import pandas as pd"
      ],
      "metadata": {
        "id": "FJNY_5bt7ppD"
      },
      "execution_count": null,
      "outputs": []
    },
    {
      "cell_type": "code",
      "source": [
        "# --- ANSWER FOR Q1 HERE: ---"
      ],
      "metadata": {
        "id": "8i3c49P-ANTo"
      },
      "execution_count": null,
      "outputs": []
    },
    {
      "cell_type": "markdown",
      "source": [
        "1.\n",
        "\n",
        "Principal components are orthogonal, which means the dot product of any two principal components must be zero, leading to:\n",
        "\n",
        "$(a, b, c, d).(0,0,1,0) = c$\n",
        "\n",
        "which therefore means c, the third term in any other principal component, must be zero."
      ],
      "metadata": {
        "id": "j6JM_YXvDHgq"
      }
    },
    {
      "cell_type": "code",
      "source": [
        "# --- END ANSWER FOR Q1 ---"
      ],
      "metadata": {
        "id": "0r1HNA0lASPi"
      },
      "execution_count": null,
      "outputs": []
    },
    {
      "cell_type": "code",
      "source": [
        "# --- ANSWER FOR Q2(a) HERE: ---\n",
        "\n",
        "#You may put your answer as commented code or in a text cell\n",
        "#A = [[Sx2, Sx1x2, Sx2x2],\n",
        "#  [Sx1, Sx1x1, Sx1x2],\n",
        "#  [m, Sx1, Sx2]]\n",
        "#B = [B1, B2, B3].T\n",
        "#C = [Sx2y, Sx1y, Sy].T\n",
        "#A*B = C"
      ],
      "metadata": {
        "id": "kZtoqViGLqyd"
      },
      "execution_count": null,
      "outputs": []
    },
    {
      "cell_type": "code",
      "source": [
        "# --- END ANSWER FOR Q2(a) ---"
      ],
      "metadata": {
        "id": "Z07DZ0S4Ltkj"
      },
      "execution_count": null,
      "outputs": []
    },
    {
      "cell_type": "code",
      "source": [
        "# --- ANSWER FOR Q2(b) HERE: ---\n",
        "#load the data\n",
        "df = pd.read_csv(\"http://pogo.software/me4ml/quehi/d2b.csv\")\n",
        "x = np.array(df['x'])\n",
        "y = np.array(df['y'])\n",
        "n_points = x.size\n",
        "\n",
        "y1 = np.log(y)\n",
        "\n",
        "Amat = np.array(( (np.sum(x), np.sum(x**2)),\n",
        "              (n_points, np.sum(x)) ))\n",
        "bmat = np.array((np.sum(x*y1), np.sum(y1)))\n",
        "\n",
        "print(Amat.shape, bmat.shape)\n",
        "beta1 = np.linalg.solve(Amat, bmat)\n",
        "\n",
        "A = np.exp(beta1[0])\n",
        "B = beta1[1]\n",
        "\n",
        "print(A,B)\n",
        "\n",
        "xt = np.linspace(-3,3, 100)\n",
        "yt = A*np.exp(B*xt)\n",
        "\n",
        "fig, ax = plt.subplots()\n",
        "plt.plot(x, y, 'b.')\n",
        "#ax.scatter(x,y)\n",
        "ax.plot(xt,yt,'r-')"
      ],
      "metadata": {
        "colab": {
          "base_uri": "https://localhost:8080/",
          "height": 484
        },
        "id": "h6vIMzKgzAAP",
        "outputId": "0d998b88-b5ef-4b9f-8615-f00a54966666"
      },
      "execution_count": null,
      "outputs": [
        {
          "output_type": "stream",
          "name": "stdout",
          "text": [
            "(2, 2) (2,)\n",
            "1.4671747023847777 0.6431072487435053\n"
          ]
        },
        {
          "output_type": "execute_result",
          "data": {
            "text/plain": [
              "[<matplotlib.lines.Line2D at 0x79dae2f77be0>]"
            ]
          },
          "metadata": {},
          "execution_count": 72
        },
        {
          "output_type": "display_data",
          "data": {
            "text/plain": [
              "<Figure size 640x480 with 1 Axes>"
            ],
            "image/png": "[encoded data removed]"
          },
          "metadata": {}
        }
      ]
    },
    {
      "cell_type": "code",
      "source": [
        "# --- END ANSWER FOR Q2(b) ---"
      ],
      "metadata": {
        "id": "2X5XEpGzIPMh"
      },
      "execution_count": null,
      "outputs": []
    },
    {
      "cell_type": "code",
      "source": [
        "# --- ANSWER FOR Q2(c) HERE: ---\n",
        "#load the data\n",
        "df = pd.read_csv(\"http://pogo.software/me4ml/quehi/d2c.csv\")\n",
        "x = np.array(df['x'])\n",
        "y = np.array(df['y'])\n",
        "n_points = x.size\n",
        "\n",
        "x1 = x\n",
        "x2 = np.exp(x)\n",
        "\n",
        "Amat = np.array(( (np.sum(x2), np.sum(x1*x2), np.sum(x2**2) ),\n",
        "                 (np.sum(x1), np.sum(x1**2), np.sum(x1*x2) ),\n",
        "              (n_points, np.sum(x1), np.sum(x2)) ))\n",
        "bmat = np.array((np.sum(x2*y), np.sum(x1*y), np.sum(y)))\n",
        "\n",
        "beta1 = np.linalg.solve(Amat, bmat)\n",
        "\n",
        "C = beta1[1]\n",
        "D = beta1[0]\n",
        "E = beta1[2]\n",
        "\n",
        "print(C, D, E)\n",
        "\n",
        "xt = np.linspace(-3,3, 100)\n",
        "yt = C*xt + D + E*np.exp(xt)\n",
        "\n",
        "fig, ax = plt.subplots()\n",
        "ax.scatter(x,y)\n",
        "ax.plot(xt,yt,'r-')\n"
      ],
      "metadata": {
        "colab": {
          "base_uri": "https://localhost:8080/",
          "height": 466
        },
        "id": "0p6lKvAA14QW",
        "outputId": "f889ecc8-2fae-4a95-a3b8-b31e151ca543"
      },
      "execution_count": null,
      "outputs": [
        {
          "output_type": "stream",
          "name": "stdout",
          "text": [
            "-4.945943321409951 -1.0134089090728273 1.6887906607256082\n"
          ]
        },
        {
          "output_type": "execute_result",
          "data": {
            "text/plain": [
              "[<matplotlib.lines.Line2D at 0x79dae3006350>]"
            ]
          },
          "metadata": {},
          "execution_count": 74
        },
        {
          "output_type": "display_data",
          "data": {
            "text/plain": [
              "<Figure size 640x480 with 1 Axes>"
            ],
            "image/png": "[encoded data removed]"
          },
          "metadata": {}
        }
      ]
    },
    {
      "cell_type": "code",
      "source": [
        "# --- END ANSWER FOR Q2(c) ---"
      ],
      "metadata": {
        "id": "p8lnQakSIReB"
      },
      "execution_count": null,
      "outputs": []
    },
    {
      "cell_type": "code",
      "source": [
        "# --- ANSWER FOR Q2(d) HERE: ---"
      ],
      "metadata": {
        "id": "gmwEqUKbIRWu"
      },
      "execution_count": null,
      "outputs": []
    },
    {
      "cell_type": "markdown",
      "source": [
        "2(d)\n",
        "(i)\n",
        "\n",
        "Extra terms are:\n",
        "d lambda sum(beta^2)/d beta_n\n",
        "= 2 lambda\n",
        "\n",
        "(or in Latex:\n",
        "$\\frac{\\partial\\lambda\\sum\\beta_{n}^{2}}{\\partial\\beta_{m}}=2\\lambda$)\n",
        "\n",
        "This can be expressed in matrix form as $2\\lambda I$ where $I$ is the identity matrix, assuming it operates on $(\\beta_1, \\beta_2, \\beta_3)^t$.\n",
        "\n",
        "(ii) If lambda is very high then it will underfit the data, resulting in a high bias but variance will be low."
      ],
      "metadata": {
        "id": "WbELW46RXx6O"
      }
    },
    {
      "cell_type": "code",
      "source": [
        "# --- END ANSWER FOR Q2(d) ---"
      ],
      "metadata": {
        "id": "6uZwwA3yITIQ"
      },
      "execution_count": null,
      "outputs": []
    },
    {
      "cell_type": "code",
      "source": [
        "# --- ANSWER FOR Q3(a) HERE: ---"
      ],
      "metadata": {
        "id": "ye31DdwuIdt7"
      },
      "execution_count": null,
      "outputs": []
    },
    {
      "cell_type": "markdown",
      "source": [
        "\n",
        "$(3+1)*3 + (3+1)*2 = 20$\n"
      ],
      "metadata": {
        "id": "tBzrWsDdVdb3"
      }
    },
    {
      "cell_type": "code",
      "source": [
        "# --- END ANSWER FOR Q3(a) ---"
      ],
      "metadata": {
        "id": "r6G_0DjLIf_b"
      },
      "execution_count": null,
      "outputs": []
    },
    {
      "cell_type": "code",
      "source": [
        "# --- ANSWER FOR Q3(b) HERE: ---\n",
        "#load the data\n",
        "df = pd.read_csv(\"http://pogo.software/me4ml/quehi/d3.csv\")\n",
        "x1 = np.array(df['x1'])\n",
        "x2 = np.array(df['x2'])\n",
        "t = np.array(df['y'])\n",
        "n_points = x.size\n",
        "\n",
        "def sigmoid(x):\n",
        "  return 1/(1 + np.exp(-x))\n",
        "\n",
        "#coefficient 3 may need to be changed here...\n",
        "net11 = -2 * x1 + 3 * x2 + 3\n",
        "net12 = -0.3 * x1 - x2 * 1 + 0.3\n",
        "\n",
        "y1 = sigmoid(net11)\n",
        "y2 = sigmoid(net12)\n",
        "\n",
        "#y2 correct is 1.9\n",
        "net21 = y1 * 1.5 + y2 * 1 - 1.8\n",
        "z = sigmoid(net21)\n",
        "\n",
        "J = np.sum((t - z)**2)/2\n",
        "\n",
        "print(J)\n"
      ],
      "metadata": {
        "id": "lkX5xCPepdXn",
        "colab": {
          "base_uri": "https://localhost:8080/"
        },
        "outputId": "87b30d00-621c-4997-e1f3-3a6befad46f0"
      },
      "execution_count": null,
      "outputs": [
        {
          "output_type": "stream",
          "name": "stdout",
          "text": [
            "3.2057852243701115\n"
          ]
        }
      ]
    },
    {
      "cell_type": "code",
      "source": [
        "# --- END ANSWER FOR Q3(b) ---"
      ],
      "metadata": {
        "id": "gxaqpgtOIi7t"
      },
      "execution_count": null,
      "outputs": []
    },
    {
      "cell_type": "code",
      "source": [
        "# --- ANSWER FOR Q3(c) HERE: ---"
      ],
      "metadata": {
        "id": "ICgRPnwmJBAx"
      },
      "execution_count": null,
      "outputs": []
    },
    {
      "cell_type": "markdown",
      "source": [
        "3(c)"
      ],
      "metadata": {
        "id": "qmSglSoF1h6L"
      }
    },
    {
      "cell_type": "code",
      "source": [
        "w212 = 1\n",
        "\n",
        "def sigDeriv(x):\n",
        "  return sigmoid(x)*(1-sigmoid(x))\n",
        "\n",
        "n_steps = 25\n",
        "step = 0.05\n",
        "\n",
        "for cnt in range(n_steps):\n",
        "  #calc cost function for current w212\n",
        "  net21 = y1 * 1.5 + y2 * w212 - 1.8\n",
        "  z = sigmoid(net21)\n",
        "  J = np.sum((t - z)**2)/2\n",
        "\n",
        "  dJdw212 = np.sum(-(t-z)*sigDeriv(net21)*y2)\n",
        "\n",
        "  w212 = w212 -dJdw212 * step\n",
        "\n",
        "  #if monitoring progress:\n",
        "  #print(w212,J)\n",
        "\n",
        "print(w212,J)"
      ],
      "metadata": {
        "colab": {
          "base_uri": "https://localhost:8080/"
        },
        "id": "yhaCooWM1jTc",
        "outputId": "79a6d563-d77e-4840-91ac-208121872963"
      },
      "execution_count": null,
      "outputs": [
        {
          "output_type": "stream",
          "name": "stdout",
          "text": [
            "1.9014820552331153 0.005548127735552244\n"
          ]
        }
      ]
    },
    {
      "cell_type": "code",
      "source": [
        "# --- END ANSWER FOR Q3(c) ---"
      ],
      "metadata": {
        "id": "9jdqCjI5Ik2n"
      },
      "execution_count": null,
      "outputs": []
    },
    {
      "cell_type": "code",
      "source": [
        "# --- ANSWER FOR Q4 HERE: ---"
      ],
      "metadata": {
        "id": "2egKYkEmBRfA"
      },
      "execution_count": null,
      "outputs": []
    },
    {
      "cell_type": "markdown",
      "source": [
        "4.\n",
        "\n",
        "$A + Bx + C x^2 + D \\cos x$\n",
        "becomes\n",
        "$g = y^t a$\n",
        "\n",
        "where $y = (1, x, x^2, \\cos x)^t$\n",
        "and $a = (A, B, C, D)^t$\n",
        "\n",
        "The discriminant hyperplane passes through the origin because the data has been projected into a higher dimensional space; there is an extra dimension which accounts for the constant A term."
      ],
      "metadata": {
        "id": "jJdyAltvoWIu"
      }
    },
    {
      "cell_type": "code",
      "source": [
        "# --- END ANSWER FOR Q4 ---"
      ],
      "metadata": {
        "id": "q_atUf7uA5LJ"
      },
      "execution_count": null,
      "outputs": []
    },
    {
      "cell_type": "markdown",
      "source": [
        "5."
      ],
      "metadata": {
        "id": "uWjjDIKmJNE_"
      }
    },
    {
      "cell_type": "code",
      "source": [
        "# --- ANSWER FOR Q5 HERE: ---\n",
        "\n",
        "#load the data\n",
        "df = pd.read_csv(\"http://pogo.software/me4ml/quehi/d5.csv\")\n",
        "x1 = np.array(df['x1'])\n",
        "x2 = np.array(df['x2'])\n",
        "y = np.array(df['y'])\n",
        "n_points = x1.size\n",
        "\n",
        "w = np.array([[-0.869, 0.494]]).T\n",
        "w0 = 0.0982\n",
        "\n",
        "\n",
        "M = 0.23\n",
        "\n",
        "X = np.column_stack([x1, x2])\n",
        "\n",
        "#get g term\n",
        "g = np.matmul(w.T, X.T).squeeze() + w0\n",
        "\n",
        "#calculate the epsilon terms\n",
        "eps = 1-y*g/M\n",
        "#only values greater than zero are valid, so zero the others\n",
        "eps[eps < 0] = 0\n",
        "\n",
        "#total C is the linear sum of the epsilon values\n",
        "C = np.sum(eps)\n",
        "\n",
        "print(\"C:\",C)"
      ],
      "metadata": {
        "colab": {
          "base_uri": "https://localhost:8080/"
        },
        "id": "iH9sOHlmlT0c",
        "outputId": "df56ea33-1864-447e-fe18-d19457faf92b"
      },
      "execution_count": null,
      "outputs": [
        {
          "output_type": "stream",
          "name": "stdout",
          "text": [
            "C: 2.4975420365465295\n"
          ]
        }
      ]
    },
    {
      "cell_type": "code",
      "source": [
        "# --- END ANSWER FOR Q5 ---"
      ],
      "metadata": {
        "id": "hnyR4nHKA6pu"
      },
      "execution_count": null,
      "outputs": []
    },
    {
      "cell_type": "markdown",
      "source": [
        "6.\n"
      ],
      "metadata": {
        "id": "wswC2AcNTeRe"
      }
    },
    {
      "cell_type": "code",
      "source": [
        "# --- ANSWER FOR Q6 HERE: ---\n",
        "\n",
        "#generate the loss matrix\n",
        "loss = np.array([[0, -30],\n",
        "                 [-15, -18],\n",
        "                 [-12, -12]])\n",
        "\n",
        "#probability that it's a lie\n",
        "plie = np.array([[0.2, 0.8]]).T\n",
        "\n",
        "#calculate risk as a matrix multiplication\n",
        "risk = np.matmul(loss, plie)\n",
        "\n",
        "print(risk)"
      ],
      "metadata": {
        "colab": {
          "base_uri": "https://localhost:8080/"
        },
        "id": "JRB-AFAwT1mW",
        "outputId": "16dc8245-672b-4d27-cded-ad304959bdec"
      },
      "execution_count": null,
      "outputs": [
        {
          "output_type": "stream",
          "name": "stdout",
          "text": [
            "[[-24. ]\n",
            " [-17.4]\n",
            " [-12. ]]\n"
          ]
        }
      ]
    },
    {
      "cell_type": "code",
      "source": [
        "# --- END ANSWER FOR Q6 ---"
      ],
      "metadata": {
        "id": "WB_7sg4OA8E7"
      },
      "execution_count": null,
      "outputs": []
    },
    {
      "cell_type": "markdown",
      "source": [
        "7."
      ],
      "metadata": {
        "id": "g1eenII_6ekJ"
      }
    },
    {
      "cell_type": "code",
      "source": [
        "# --- ANSWER FOR Q7 HERE: ---\n",
        "\n",
        "#load the data\n",
        "df = pd.read_csv(\"http://pogo.software/me4ml/quehi/d7.csv\")\n",
        "x1 = np.array(df['x1'])\n",
        "x2 = np.array(df['x2'])\n",
        "y = np.array(df['y'])\n",
        "n_points = x.size\n",
        "\n",
        "\n",
        "n_bound = 21\n",
        "bound_locs = np.linspace(0,1,n_bound)\n",
        "\n",
        "#preallocate the space for gini impurities - do a matrix with 2 columns for x1 and x2\n",
        "gini = np.zeros([n_bound,2])\n",
        "\n",
        "\n",
        "for l in range(n_bound):\n",
        "  loc = bound_locs[l]\n",
        "\n",
        "  #x1 direction:\n",
        "  #count number of points above line and below line for both classes\n",
        "  c0below = np.count_nonzero(x1[y==0] < loc)\n",
        "  c0above = np.count_nonzero(x1[y==0] >= loc)\n",
        "  c1below = np.count_nonzero(x1[y==1] < loc)\n",
        "  c1above = np.count_nonzero(x1[y==1] >= loc)\n",
        "\n",
        "  #total points above and below\n",
        "  n_below = c1below+c0below\n",
        "  n_above = c1above+c0above\n",
        "\n",
        "  #calculate probabilities\n",
        "  p0below = c0below/n_below\n",
        "  p0above = c0above/n_above\n",
        "\n",
        "  #calculate Gini impurities either side of the line\n",
        "  impBelow = 1 - p0below**2 - (1-p0below)**2\n",
        "  impAbove = 1 - p0above**2 - (1-p0above)**2\n",
        "\n",
        "  #get weighted average based on number of points above and below\n",
        "  gini[l,0] = (impBelow*n_below+impAbove*n_above)/(n_below+n_above)\n",
        "\n",
        "  #x2 direction - same as x1:\n",
        "  c0below = np.count_nonzero(x2[y==0] < loc)\n",
        "  c0above = np.count_nonzero(x2[y==0] >= loc)\n",
        "  c1below = np.count_nonzero(x2[y==1] < loc)\n",
        "  c1above = np.count_nonzero(x2[y==1] >= loc)\n",
        "\n",
        "  n_above = c1above+c0above\n",
        "  n_below = c1below+c0below\n",
        "\n",
        "  p0below = c0below/(c0below + c1below)\n",
        "  p0above = c0above/(c0above + c1above)\n",
        "\n",
        "  impBelow = 1 - p0below**2 - (1-p0below)**2\n",
        "  impAbove = 1 - p0above**2 - (1-p0above)**2\n",
        "\n",
        "  #store in second column\n",
        "  gini[l,1] = (impBelow*n_below+impAbove*n_above)/(n_below+n_above)\n",
        "\n",
        "\n",
        "fig, ax = plt.subplots()\n",
        "ax.plot(bound_locs,gini[:,0],'r-')\n",
        "ax.set_xlabel('x1')\n",
        "ax.set_ylabel('Weighted Gini impurity')\n",
        "\n",
        "fig, ax = plt.subplots()\n",
        "ax.plot(bound_locs,gini[:,1],'r-')\n",
        "ax.set_xlabel('x2')\n",
        "ax.set_ylabel('Weighted Gini impurity')\n",
        "\n",
        "print(bound_locs[np.argmin(gini[:,0])])"
      ],
      "metadata": {
        "colab": {
          "base_uri": "https://localhost:8080/",
          "height": 899
        },
        "id": "LWLdHExQc-UK",
        "outputId": "553f44a5-7f66-42e7-8faf-3034b4dc1bf6"
      },
      "execution_count": null,
      "outputs": [
        {
          "output_type": "stream",
          "name": "stdout",
          "text": [
            "0.45\n"
          ]
        },
        {
          "output_type": "display_data",
          "data": {
            "text/plain": [
              "<Figure size 640x480 with 1 Axes>"
            ],
            "image/png": "[encoded data removed]"
          },
          "metadata": {}
        },
        {
          "output_type": "display_data",
          "data": {
            "text/plain": [
              "<Figure size 640x480 with 1 Axes>"
            ],
            "image/png": "[encoded data removed]"
          },
          "metadata": {}
        }
      ]
    },
    {
      "cell_type": "code",
      "source": [
        "# --- END ANSWER FOR Q7 ---"
      ],
      "metadata": {
        "id": "mNO26BikA-ZM"
      },
      "execution_count": null,
      "outputs": []
    },
    {
      "cell_type": "code",
      "source": [
        "# --- ANSWER FOR Q8 HERE: ---"
      ],
      "metadata": {
        "id": "LEVz2k2VJXlH"
      },
      "execution_count": null,
      "outputs": []
    },
    {
      "cell_type": "markdown",
      "source": [
        "8."
      ],
      "metadata": {
        "id": "BQqEN3DH6h4h"
      }
    },
    {
      "cell_type": "code",
      "execution_count": null,
      "metadata": {
        "colab": {
          "base_uri": "https://localhost:8080/"
        },
        "id": "SF4GESum7KVh",
        "outputId": "4ed71dba-27a9-4558-ff99-50e0158fdb0f"
      },
      "outputs": [
        {
          "output_type": "stream",
          "name": "stdout",
          "text": [
            "0\n"
          ]
        }
      ],
      "source": [
        "# --- ANSWER FOR Q8(a) HERE: ---\n",
        "\n",
        "#load in the data\n",
        "df = pd.read_csv(\"http://pogo.software/me4ml/quehi/d8.csv\")\n",
        "x1 = np.array(df['x1'])\n",
        "x2 = np.array(df['x2'])\n",
        "x3 = np.array(df['x3'])\n",
        "x4 = np.array(df['x4'])\n",
        "X = np.column_stack((x1, x2, x3, x4))\n",
        "y = np.array(df['y'])\n",
        "\n",
        "n_points = x1.size\n",
        "\n",
        "\n",
        "xp = np.array(((0, -1, 2, 1),))\n",
        "\n",
        "dist = X - xp\n",
        "abs_dist = np.abs(X - xp)\n",
        "\n",
        "L1dist = np.sum(abs_dist, axis=1)\n",
        "#print(L1dist)\n",
        "\n",
        "k = 3\n",
        "indices_of_smallest = np.argpartition(L1dist, k)[:k]\n",
        "mn = np.mean(y[indices_of_smallest]) #***\n",
        "\n",
        "\n",
        "cl = int(mn > 0.5)\n",
        "print(cl)\n"
      ]
    },
    {
      "cell_type": "code",
      "source": [
        "# --- END ANSWER FOR Q8(a) ---"
      ],
      "metadata": {
        "id": "BKPQmOPIJfmO"
      },
      "execution_count": null,
      "outputs": []
    },
    {
      "cell_type": "code",
      "source": [
        "# --- ANSWER FOR Q8(b) HERE: ---\n",
        "\n",
        "#(b)\n",
        "L2dist = np.sqrt(np.sum(abs_dist**2, axis=1))\n",
        "\n",
        "n_0 = np.count_nonzero(y==0)\n",
        "n_1 = np.count_nonzero(y==1)\n",
        "p_x_0 = np.sum(1/2/np.pi*np.exp(-1/2*L2dist[y==0]**2))/n_0\n",
        "p_x_1 = np.sum(1/2/np.pi*np.exp(-1/2*L2dist[y==1]**2))/n_1\n",
        "\n",
        "print(p_x_0, p_x_1)\n",
        "\n",
        "p_0 = n_0/(n_0+n_1)\n",
        "p_1 = n_1/(n_0+n_1)\n",
        "\n",
        "p_x = p_x_0 * p_0 + p_x_1 * p_1\n",
        "p_0_x = p_x_0 * p_0 / p_x\n",
        "p_1_x = p_x_1 * p_1 / p_x\n",
        "\n",
        "print(p_0_x)\n",
        "print(p_1_x)\n"
      ],
      "metadata": {
        "id": "BByjik8-B0N7",
        "colab": {
          "base_uri": "https://localhost:8080/"
        },
        "outputId": "011ad949-9162-4012-ee25-918deb837d3a"
      },
      "execution_count": null,
      "outputs": [
        {
          "output_type": "stream",
          "name": "stdout",
          "text": [
            "0.0117835238475955 0.006577149328836313\n",
            "0.6599661917890142\n",
            "0.34003380821098583\n"
          ]
        }
      ]
    },
    {
      "cell_type": "code",
      "source": [
        "# --- END ANSWER FOR Q8(b) ---"
      ],
      "metadata": {
        "id": "SAjUOkLXJdmM"
      },
      "execution_count": null,
      "outputs": []
    },
    {
      "cell_type": "code",
      "source": [
        "# --- ANSWER FOR Q8(c) HERE: ---"
      ],
      "metadata": {
        "id": "Vmwg89XkqXQm"
      },
      "execution_count": null,
      "outputs": []
    },
    {
      "cell_type": "markdown",
      "source": [
        "By classifying on the nearest neighbour (or neighbours), rather than defining a specific distance (which is the approach with a Parzen window), the routine automatically selects a suitable distance, simplifying model tuning. It also automatically accounts for localised differences in density in the training points through the dataset."
      ],
      "metadata": {
        "id": "OmXvH79Sqgwi"
      }
    },
    {
      "cell_type": "code",
      "source": [
        "# --- END ANSWER FOR Q8(c) ---"
      ],
      "metadata": {
        "id": "0VlEEPX3qZZS"
      },
      "execution_count": null,
      "outputs": []
    }
  ]
}