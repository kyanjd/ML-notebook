{
 "cells": [
  {
   "cell_type": "markdown",
   "metadata": {},
   "source": [
    "# Cheat Sheet"
   ]
  },
  {
   "cell_type": "code",
   "execution_count": null,
   "metadata": {},
   "outputs": [],
   "source": [
    "import numpy as np\n",
    "import matplotlib.pyplot as plt\n",
    "import pandas as pd\n",
    "\n",
    "# No np.linalg.norm\n",
    "# No np.linalg.lstsq"
   ]
  },
  {
   "cell_type": "markdown",
   "metadata": {},
   "source": [
    "### K-means clustering in 2D for 2 means, 5 iterations"
   ]
  },
  {
   "cell_type": "code",
   "execution_count": null,
   "metadata": {},
   "outputs": [],
   "source": [
    "df = pd.DataFrame() # Unclassified DataFrame with an x1 and x2 column\n",
    "\n",
    "x1 = df['x1'] # Extract columns as vars (not strictly necessary)\n",
    "x2 = df['x2']\n",
    "\n",
    "mean_1 = np.array([-1, -1]) # Input starting means, add other means here for larger K\n",
    "mean_2 = np.array([2, 1])\n",
    "\n",
    "\n",
    "def distance(x1, x2, target): # Vectorised distance between a list of points (separated into x1 and x2) and a target point\n",
    "    return np.sqrt((x1-target[0])**2 + (x2-target[1])**2) # L2 norm\n",
    "\n",
    "for _ in range(5): # Change here for more iterations\n",
    "    df[\"class\"] = np.where(distance(x1, x2, mean_1) < distance(x1, x2, mean_2), 1, 2) # Vectorised class column creation based on minimum distance to means\n",
    "    c1_df = df[df[\"class\"] == 1] # DF with class 1 points only\n",
    "    c2_df = df[df[\"class\"] == 2] # DF with class 2 points only\n",
    "\n",
    "    mean_1 = np.array([c1_df[\"x1\"].mean(), c1_df[\"x2\"].mean()]) # Update starting means with the average point of each class\n",
    "    mean_2 = np.array([c2_df[\"x1\"].mean(), c2_df[\"x2\"].mean()])\n",
    "\n",
    "    x1_mean = np.array([mean_1[0], mean_2[0]]) # Get separate arrays of x1 and x2 points of the means for plotting\n",
    "    x2_mean = np.array([mean_1[1], mean_2[1]]) \n",
    "\n",
    "    plt.scatter(x1, x2, c=df[\"class\"]) # Scatter plot coloured by class\n",
    "    plt.scatter(x1_mean, x2_mean, color=\"red\") # Plot means\n",
    "    plt.show()\n",
    "    print(f\"{mean_1=}, {mean_2=}\") # Print means\n",
    "\n"
   ]
  }
 ],
 "metadata": {
  "kernelspec": {
   "display_name": "machine_learning",
   "language": "python",
   "name": "python3"
  },
  "language_info": {
   "name": "python",
   "version": "3.10.13"
  }
 },
 "nbformat": 4,
 "nbformat_minor": 2
}
